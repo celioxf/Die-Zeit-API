{
 "cells": [
  {
   "cell_type": "markdown",
   "metadata": {},
   "source": [
    "# Die Zeit API\n",
    "\n",
    "DIE ZEIT is one of the most famous german newspapers. It provides an API that allows users to retrieve data from articles contained in their archiv. In this project, we'll access this data and clean it,so that it's ready for some initial analysis. \n",
    "\n",
    "# Project's Goal\n",
    "\n",
    "1) Get data from the API from the ZEIT newspaper\n",
    "\n",
    "2) Complement the data via Webscrapping\n",
    "\n",
    "3) Prepare the data for initial analysis. "
   ]
  },
  {
   "cell_type": "markdown",
   "metadata": {},
   "source": [
    "### Importing Libraries"
   ]
  },
  {
   "cell_type": "code",
   "execution_count": 1,
   "metadata": {},
   "outputs": [],
   "source": [
    "import json\n",
    "import requests\n",
    "import pandas as pd\n",
    "from bs4 import BeautifulSoup\n",
    "import re"
   ]
  },
  {
   "cell_type": "markdown",
   "metadata": {},
   "source": [
    "### Reading Authorization\n",
    "\n",
    "To access the API, a key is necessary. The key can be required by sending an email to the responsible team of the ZEIT newspaper. For more information, read: http://developer.zeit.de/quickstart/"
   ]
  },
  {
   "cell_type": "code",
   "execution_count": 2,
   "metadata": {},
   "outputs": [],
   "source": [
    "authorization = open(r\"C:\\Users\\celio\\My Projects\\Guided Projects\\Bewerbung\\auth.txt\")\n",
    "api_key = authorization.read()\n",
    "headers = {\"X-Authorization\":api_key}"
   ]
  },
  {
   "cell_type": "markdown",
   "metadata": {},
   "source": [
    "### Function to make requests to the API and read content"
   ]
  },
  {
   "cell_type": "code",
   "execution_count": 3,
   "metadata": {},
   "outputs": [],
   "source": [
    "def request_and_read(url,limit):\n",
    "    # url is a valid url\n",
    "    # limit is the number of results from the \n",
    "    \n",
    "    # turns url into string (if it's not in string type already)\n",
    "    url = str(url)\n",
    "    endpoint = r\"{url}\".format(url=url)\n",
    "    \n",
    "    # Fetches content\n",
    "    r = requests.get(endpoint,\n",
    "                    headers = headers, # headers is the parameter from the get method to pass the API key\n",
    "                    params = {\"limit\":limit}) \n",
    "    # Read content\n",
    "    content = json.loads(r.content)\n",
    "    return content # Output is dictionary"
   ]
  },
  {
   "cell_type": "markdown",
   "metadata": {},
   "source": [
    "# Exploring the API\n",
    "\n",
    "The API has a very straight forward documentation [http://developer.zeit.de/quickstart/], in which all its endpoints are indicated. One great place to start is the products endpoint, that refers to the different formats produced by the ZEIT commercial group. "
   ]
  },
  {
   "cell_type": "code",
   "execution_count": 4,
   "metadata": {},
   "outputs": [],
   "source": [
    "erste_anfrage = request_and_read(\"http://api.zeit.de/product\",10)"
   ]
  },
  {
   "cell_type": "code",
   "execution_count": 5,
   "metadata": {},
   "outputs": [
    {
     "name": "stdout",
     "output_type": "stream",
     "text": [
      "Product = ZEIT ONLINE\n",
      "URL \n",
      "URI http://api.zeit.de/product/zede\n",
      "\n",
      "Product = DIE ZEIT\n",
      "URL \n",
      "URI http://api.zeit.de/product/zei\n",
      "\n",
      "Product = Leserartikel\n",
      "URL http://www.zeit.de/leserartikel/index\n",
      "URI http://api.zeit.de/product/leserartikel\n",
      "\n",
      "Product = ZEITmagazin\n",
      "URL http://www.zeit.de/zeit-magazin/index\n",
      "URI http://api.zeit.de/product/zmlb\n",
      "\n",
      "Product = Test/Development\n",
      "URL \n",
      "URI http://api.zeit.de/product/test\n",
      "\n",
      "Product = ZEIT Campus\n",
      "URL http://www.zeit.de/campus/index\n",
      "URI http://api.zeit.de/product/ztcs\n",
      "\n",
      "Product = ZEIT CAMPUS Ratgeber\n",
      "URL http://www.zeit.de/campus/index\n",
      "URI http://api.zeit.de/product/csrg\n",
      "\n",
      "Product = ZEIT Wissen\n",
      "URL http://www.zeit.de/wissen/zeit-wissen/index\n",
      "URI http://api.zeit.de/product/ztwi\n",
      "\n",
      "Product = ZEIT Geschichte\n",
      "URL http://www.zeit.de/wissen/zeit-geschichte/index\n",
      "URI http://api.zeit.de/product/ztgs\n",
      "\n",
      "Product = Zeit Schweiz\n",
      "URL \n",
      "URI http://api.zeit.de/product/zech\n",
      "\n",
      "Total = 50\n"
     ]
    }
   ],
   "source": [
    "for d in erste_anfrage[\"matches\"]:\n",
    "    print(\"Product = {value}\\nURL {href}\\nURI {uri}\\n\".format(value = d[\"value\"], href = d[\"href\"], uri=d[\"uri\"]))\n",
    "    \n",
    "print(\"Total = {}\".format(erste_anfrage[\"found\"]))"
   ]
  },
  {
   "cell_type": "markdown",
   "metadata": {},
   "source": [
    "To avoid a tedious output, We've limited number of results to the first ten, but the API offers access to 50 different products of the ZEIT company (which inclues the newspaper and some more specialized productions towards history or science, like ZEITGeschichte and ZeitWissen, among others).\n",
    "\n",
    "Not all endpoints are completely available though."
   ]
  },
  {
   "cell_type": "markdown",
   "metadata": {},
   "source": [
    "### ZeitMagazin"
   ]
  },
  {
   "cell_type": "code",
   "execution_count": 6,
   "metadata": {},
   "outputs": [
    {
     "data": {
      "text/plain": [
       "{'matches': [],\n",
       " 'uri': 'http://api.zeit.de/product/zmlb',\n",
       " 'value': 'ZEITmagazin',\n",
       " 'href': 'http://www.zeit.de/zeit-magazin/index',\n",
       " 'limit': 10,\n",
       " 'offset': 0,\n",
       " 'found': 0,\n",
       " 'id': 'zmlb'}"
      ]
     },
     "execution_count": 6,
     "metadata": {},
     "output_type": "execute_result"
    }
   ],
   "source": [
    "magazin = request_and_read(\"http://api.zeit.de/product/zmlb\",10)\n",
    "magazin"
   ]
  },
  {
   "cell_type": "markdown",
   "metadata": {},
   "source": [
    "## Zeit ONLINE"
   ]
  },
  {
   "cell_type": "code",
   "execution_count": 7,
   "metadata": {},
   "outputs": [
    {
     "data": {
      "text/plain": [
       "{'matches': [{'subtitle': 'Die Banane ist nach dem Apfel die Lieblingsfrucht der Deutschen. Zeit für einen Blick über den Obsttellerrand hinaus.',\n",
       "   'uuid': '5D5Up6ET9l7Wp8vMYt8Hkn',\n",
       "   'title': 'Mehr als Obst',\n",
       "   'href': 'http://www.zeit.de/2020/19/banane-anbau-wachstum-form-schaedlinge',\n",
       "   'release_date': '2020-04-30T11:42:51Z',\n",
       "   'uri': 'http://api.zeit.de/content/5D5Up6ET9l7Wp8vMYt8Hkn',\n",
       "   'supertitle': 'Banane',\n",
       "   'teaser_text': 'Die Banane ist nach dem Apfel die Lieblingsfrucht der Deutschen. Zeit für einen Blick über den Obsttellerrand hinaus.',\n",
       "   'teaser_title': 'Mehr als Obst'}],\n",
       " 'uri': 'http://api.zeit.de/product/zei',\n",
       " 'value': 'DIE ZEIT',\n",
       " 'href': '',\n",
       " 'limit': 1,\n",
       " 'offset': 0,\n",
       " 'found': 125424,\n",
       " 'id': 'zei'}"
      ]
     },
     "execution_count": 7,
     "metadata": {},
     "output_type": "execute_result"
    }
   ],
   "source": [
    "zeit = request_and_read(\"http://api.zeit.de/product/zei\",1)\n",
    "zeit # Contains data from article"
   ]
  },
  {
   "cell_type": "markdown",
   "metadata": {},
   "source": [
    "Judging by the difference in the output between ZeitMagazin and Zeit ONLINE, we can see that later yields results, while the first one does not. A probable resason for this is that some of the products, like Zeit Magazin, ZeitWissen und ZeitGeschichte are only available for subscribers. For this reason, they can't be made available through the API.\n",
    "\n",
    "With this in mind, we can now find out which are the valid endpoints."
   ]
  },
  {
   "cell_type": "markdown",
   "metadata": {},
   "source": [
    "## Valid Endpoints"
   ]
  },
  {
   "cell_type": "code",
   "execution_count": 8,
   "metadata": {},
   "outputs": [
    {
     "name": "stdout",
     "output_type": "stream",
     "text": [
      "\n",
      " ZEIT ONLINE 140567 http://api.zeit.de/product/zede\n",
      "\n",
      " DIE ZEIT 125424 http://api.zeit.de/product/zei\n",
      "\n",
      " DIE ZEIT 228443 http://api.zeit.de/product/zear\n"
     ]
    }
   ],
   "source": [
    "zweite_anfrage = request_and_read(\"http://api.zeit.de/product\",50) # New request to retrieve all results\n",
    "\n",
    "endpoints = [] # endpoints are added to this list\n",
    "\n",
    "for d in zweite_anfrage[\"matches\"]: # loops through the items in the requests's result\n",
    "    endpoints.append(d[\"uri\"]) # append results to the endpoints list\n",
    "    \n",
    "\n",
    "# \n",
    "gueltige_endpoints = []\n",
    "ungueltige_endpoints = []\n",
    "\n",
    "for uri in endpoints:  # if product is valid endpoint, \n",
    "                        # Prints a summary of the product, the number of results and the uri\n",
    "        \n",
    "    ergebnis =request_and_read(uri,1)\n",
    "    if ergebnis[\"found\"]== 0:\n",
    "        ungueltige_endpoints.append(ergebnis[\"value\"])\n",
    "    elif ergebnis[\"found\"]!= 0 or \"0\":\n",
    "        print(\"\\n\",ergebnis[\"value\"],ergebnis[\"found\"], uri)\n",
    "        gueltige_endpoints.append(ergebnis)"
   ]
  },
  {
   "cell_type": "markdown",
   "metadata": {},
   "source": [
    "From all the endpoints above, it's clear the only three offer public access to the API. We can investigate them further."
   ]
  },
  {
   "cell_type": "code",
   "execution_count": 9,
   "metadata": {},
   "outputs": [
    {
     "name": "stdout",
     "output_type": "stream",
     "text": [
      "Gesamt Anzahl der Artikel = 494434\n"
     ]
    },
    {
     "data": {
      "text/html": [
       "<div>\n",
       "<style scoped>\n",
       "    .dataframe tbody tr th:only-of-type {\n",
       "        vertical-align: middle;\n",
       "    }\n",
       "\n",
       "    .dataframe tbody tr th {\n",
       "        vertical-align: top;\n",
       "    }\n",
       "\n",
       "    .dataframe thead th {\n",
       "        text-align: right;\n",
       "    }\n",
       "</style>\n",
       "<table border=\"1\" class=\"dataframe\">\n",
       "  <thead>\n",
       "    <tr style=\"text-align: right;\">\n",
       "      <th></th>\n",
       "      <th>Endpoints</th>\n",
       "      <th>N_Artikel</th>\n",
       "      <th>Anteil</th>\n",
       "    </tr>\n",
       "  </thead>\n",
       "  <tbody>\n",
       "    <tr>\n",
       "      <td>0</td>\n",
       "      <td>ZEIT ONLINE</td>\n",
       "      <td>140567</td>\n",
       "      <td>0.284299</td>\n",
       "    </tr>\n",
       "    <tr>\n",
       "      <td>1</td>\n",
       "      <td>DIE ZEIT</td>\n",
       "      <td>125424</td>\n",
       "      <td>0.253672</td>\n",
       "    </tr>\n",
       "    <tr>\n",
       "      <td>2</td>\n",
       "      <td>DIE ZEIT</td>\n",
       "      <td>228443</td>\n",
       "      <td>0.462029</td>\n",
       "    </tr>\n",
       "  </tbody>\n",
       "</table>\n",
       "</div>"
      ],
      "text/plain": [
       "     Endpoints  N_Artikel    Anteil\n",
       "0  ZEIT ONLINE     140567  0.284299\n",
       "1     DIE ZEIT     125424  0.253672\n",
       "2     DIE ZEIT     228443  0.462029"
      ]
     },
     "execution_count": 9,
     "metadata": {},
     "output_type": "execute_result"
    }
   ],
   "source": [
    "products = [x[\"value\"] for x in gueltige_endpoints] # List Comprehension, to create a column with the product's name\n",
    "found = [x[\"found\"] for x in gueltige_endpoints] # List Comprehension, to create a column with the number of articles\n",
    "\n",
    "points = pd.DataFrame({\"Endpoints\":products,\"N_Artikel\":found}) # Instatiates a DataFrame\n",
    "\n",
    "print(\"Gesamt Anzahl der Artikel = {}\".format(points[\"N_Artikel\"].sum()))\n",
    "\n",
    "points[\"Anteil\"] = points[\"N_Artikel\"]/points[\"N_Artikel\"].sum()\n",
    "points"
   ]
  },
  {
   "cell_type": "markdown",
   "metadata": {},
   "source": [
    "### ZEIT ONLINE\n",
    "\n",
    "It's the newspaper's website. \n",
    "\n",
    "### DIE ZEIT (first endpoint)\n",
    "\n",
    "As far as my knowledge goes, those are articles meant for the printed newspaper of the company. Some of them are then transformed in digital format and uploaded to the website. \n",
    "\n",
    "### DIE ZEIT (second endpoint)\n",
    "\n",
    "Those articles belong to an older archiv of the Zeit newspaper. It's a miscellaneous of news from many decades ago up until 2018."
   ]
  },
  {
   "cell_type": "markdown",
   "metadata": {},
   "source": [
    "# Retrieving Articles\n",
    "\n",
    "Now that we have a brighter idea who the API works, we can start to retrieve information on the articles. However, to avoid giving this data wrangling and cleaning project a disproportionate length, we'll focus on the ZEIT ONLINE endpoint."
   ]
  },
  {
   "cell_type": "markdown",
   "metadata": {},
   "source": [
    "## The ZEIT ONLINE Endpoint\n",
    "\n",
    "We'll retrieve information from a thousand (1000) articles.\n",
    "\n",
    "However, before we do this, the read_and_request function we created above has to me modified, so that it can take the offset parameters. This will allow us to get not the first 100 results, but a thousando results after the determined offset (for example, if offset is 100, we'll get the results from 101 to 1101 - and not from 0 to 1000). \n",
    "\n",
    "This is specially important, because we'll complement the information with the number of commentaries each article has had and younger, recently published articles haven't had the time to reach \"maximum number of comments\". "
   ]
  },
  {
   "cell_type": "markdown",
   "metadata": {},
   "source": [
    "### Adjusting the Function"
   ]
  },
  {
   "cell_type": "code",
   "execution_count": 10,
   "metadata": {},
   "outputs": [],
   "source": [
    "def request_and_read(url,limit,offset):\n",
    "    # url is a valid url\n",
    "    # limit is the number of results from the \n",
    "    \n",
    "    # turns url into string (if it's not in string type already)\n",
    "    url = str(url)\n",
    "    endpoint = r\"{url}\".format(url=url)\n",
    "    \n",
    "    # Fetches content\n",
    "    r = requests.get(endpoint,\n",
    "                    headers = headers, # headers is the parameter from the get method to pass the API key\n",
    "                    params = {\"limit\":limit,\n",
    "                             \"offset\":offset}) \n",
    "    # Read content\n",
    "    content = json.loads(r.content)\n",
    "    return content # Output is dictionary"
   ]
  },
  {
   "cell_type": "code",
   "execution_count": 11,
   "metadata": {},
   "outputs": [],
   "source": [
    " # request to the zeit online endpoint\n",
    "zeit_online_anfrage = request_and_read(\"http://api.zeit.de/product/zede\",1000,500)"
   ]
  },
  {
   "cell_type": "markdown",
   "metadata": {},
   "source": [
    "### Extract Article Data\n",
    "\n",
    "We can write another function to extract data from the keys contained in the content dictionary"
   ]
  },
  {
   "cell_type": "code",
   "execution_count": 12,
   "metadata": {},
   "outputs": [],
   "source": [
    "def get_metadata(big_dictionary): # Die Funktion nimmt die Dictionary aus der request_and_read Funktion an\n",
    "    \n",
    "    list_of_dictionaries = big_dictionary[\"matches\"] # Sie greift auf die Schlüssel \"matches\" in Dictionary zu\n",
    "    \n",
    "    # Instaziierung einer Dictionary, um die gültigen Werte zu empfangen\n",
    "    valid = {\"subtitle\": [], \"uuid\": [],\"title\": [],\"href\":[],\n",
    "         \"release_date\":[],\"uri\":[],\"supertitle\": [],\"teaser_text\":[],\"teaser_title\":[]}\n",
    "    \n",
    "    for d in list_of_dictionaries: # Vergleicht die Keys von Endpoint(list of dictionaries) mit dem Keys von Valid\n",
    "        \n",
    "        if d.keys() == valid.keys(): # Wenn Keys übereinstimmen, setzt Auspackung der Daten fort\n",
    "            valid[\"subtitle\"].append(d[\"subtitle\"])\n",
    "            valid[\"uuid\"].append(d[\"uuid\"])\n",
    "            valid[\"title\"].append(d[\"title\"])\n",
    "            valid[\"href\"].append(d[\"href\"])\n",
    "            valid[\"release_date\"].append(d[\"release_date\"])\n",
    "            valid[\"uri\"].append(d[\"uri\"])\n",
    "            valid[\"supertitle\"].append(d[\"supertitle\"])\n",
    "            valid[\"teaser_text\"].append(d[\"teaser_text\"])\n",
    "            valid[\"teaser_title\"].append(d[\"teaser_title\"])\n",
    "            \n",
    "        else: # Wenn Keys nicht übereinstimmen, überspringt diesen Eintrag\n",
    "            continue\n",
    "            \n",
    "    # Dieser Ansatz ist wichtig, um die Sammlung von fehlenden oder defekten Daten zu vermeiden\n",
    "    # Mit früheren Versionen diese Funktion hatte ich oft unerwartete Abstürze\n",
    "    # bei dem Auftritt eines Eintrags, der von der Regel abweicht. \n",
    "            \n",
    "    return  valid"
   ]
  },
  {
   "cell_type": "code",
   "execution_count": 13,
   "metadata": {},
   "outputs": [],
   "source": [
    "zeit_online_dict = get_metadata(zeit_online_anfrage)"
   ]
  },
  {
   "cell_type": "markdown",
   "metadata": {},
   "source": [
    "### Controling Results\n",
    "\n",
    "We can check if everything went alright by doing the following:"
   ]
  },
  {
   "cell_type": "code",
   "execution_count": 14,
   "metadata": {},
   "outputs": [
    {
     "name": "stdout",
     "output_type": "stream",
     "text": [
      "999\n",
      "999\n",
      "999\n",
      "999\n",
      "999\n",
      "999\n",
      "999\n",
      "999\n",
      "999\n"
     ]
    }
   ],
   "source": [
    "for key in zeit_online_dict:\n",
    "    print(len(zeit_online_dict[key]))"
   ]
  },
  {
   "cell_type": "markdown",
   "metadata": {},
   "source": [
    "This means that from the 1000 articles we tried to retrieve, 999 yielded valid results.\n",
    "\n",
    "A preview of the results looks like the output below."
   ]
  },
  {
   "cell_type": "code",
   "execution_count": 15,
   "metadata": {},
   "outputs": [
    {
     "name": "stdout",
     "output_type": "stream",
     "text": [
      "subtitle  =  Die Notaufnahme ist das wichtigste Tor ins Krankenhaus – dort entscheidet sich, wie schnell ein Verdachtsfall erkannt und isoliert wird. Unterwegs mit einem Chefarzt \n",
      "\n",
      "uuid  =  tjGeyYcvvupRcjD5YaTzG \n",
      "\n",
      "title  =  Ein Netz, das Viren fangen kann \n",
      "\n",
      "href  =  http://www.zeit.de/hamburg/2020-04/notaufnahmen-aerzte-coronavirus-verdachtsfall-tests \n",
      "\n",
      "release_date  =  2020-04-22T13:54:56Z \n",
      "\n",
      "uri  =  http://api.zeit.de/content/tjGeyYcvvupRcjD5YaTzG \n",
      "\n",
      "supertitle  =  Notaufnahmen \n",
      "\n",
      "teaser_text  =  Die Notaufnahme ist das wichtigste Tor ins Krankenhaus – dort entscheidet sich, wie schnell ein Verdachtsfall erkannt und isoliert wird. Unterwegs mit einem Chefarzt \n",
      "\n",
      "teaser_title  =  Ein Netz, das Viren fangen kann \n",
      "\n"
     ]
    }
   ],
   "source": [
    "for key in zeit_online_dict:\n",
    "    print(key, \" = \",zeit_online_dict[key][0],\"\\n\")"
   ]
  },
  {
   "cell_type": "markdown",
   "metadata": {},
   "source": [
    "## Getting Extra Information\n",
    "\n",
    "As mentioned, we wanted to complement the data with the number of comments each article has gotten. One of the keys contained in the zeit_online_dict is specially useful in this task, the \"uri\" key.\n",
    "\n",
    "Until now, we've explored only the \"products\" endpoint of the Zeit API. Through the uri, however, we can access another one, the content endpoint. At this \"location\", we can get more information on the articles."
   ]
  },
  {
   "cell_type": "code",
   "execution_count": 16,
   "metadata": {},
   "outputs": [
    {
     "data": {
      "text/plain": [
       "['http://api.zeit.de/content/tjGeyYcvvupRcjD5YaTzG',\n",
       " 'http://api.zeit.de/content/660V6H9CAOTGTw0HD6GT1x',\n",
       " 'http://api.zeit.de/content/7JnTgL9LnGtuIY8ESds5e0',\n",
       " 'http://api.zeit.de/content/6X1Ngx5oYPZW4o1VuCyZoY',\n",
       " 'http://api.zeit.de/content/2rEXFrxDqow80Jii4EO4y2']"
      ]
     },
     "execution_count": 16,
     "metadata": {},
     "output_type": "execute_result"
    }
   ],
   "source": [
    "zeit_online_dict[\"uri\"][:5]"
   ]
  },
  {
   "cell_type": "code",
   "execution_count": 17,
   "metadata": {},
   "outputs": [
    {
     "data": {
      "text/plain": [
       "{'teaser_title': 'Ein Netz, das Viren fangen kann',\n",
       " 'uuid': 'tjGeyYcvvupRcjD5YaTzG',\n",
       " 'title': 'Ein Netz, das Viren fangen kann',\n",
       " 'release_date': '2020-04-22T13:54:56Z',\n",
       " 'uri': 'http://api.zeit.de/content/tjGeyYcvvupRcjD5YaTzG',\n",
       " 'relations': [],\n",
       " 'supertitle': 'Notaufnahmen',\n",
       " 'href': 'http://www.zeit.de/hamburg/2020-04/notaufnahmen-aerzte-coronavirus-verdachtsfall-tests',\n",
       " 'teaser_text': 'Die Notaufnahme ist das wichtigste Tor ins Krankenhaus – dort entscheidet sich, wie schnell ein Verdachtsfall erkannt und isoliert wird. Unterwegs mit einem Chefarzt',\n",
       " 'keywords': [{'uri': 'http://api.zeit.de/keyword/krankenhaus',\n",
       "   'rel': 'subject',\n",
       "   'name': 'Krankenhaus'},\n",
       "  {'uri': 'http://api.zeit.de/keyword/infektion',\n",
       "   'rel': 'subject',\n",
       "   'name': 'Infektion'},\n",
       "  {'uri': 'http://api.zeit.de/keyword/pflegeheim',\n",
       "   'rel': 'subject',\n",
       "   'name': 'Pflegeheim'},\n",
       "  {'uri': 'http://api.zeit.de/keyword/gesundheitssystem',\n",
       "   'rel': 'subject',\n",
       "   'name': 'Gesundheitssystem'},\n",
       "  {'uri': 'http://api.zeit.de/keyword/virus',\n",
       "   'rel': 'subject',\n",
       "   'name': 'Virus'}],\n",
       " 'creators': [{'uri': 'http://api.zeit.de/author/Nike-Heinen',\n",
       "   'rel': 'author',\n",
       "   'name': 'Nike Heinen'}],\n",
       " 'categories': [{'uri': 'http://api.zeit.de/product/zede',\n",
       "   'rel': 'product',\n",
       "   'name': 'ZEIT ONLINE'}]}"
      ]
     },
     "execution_count": 17,
     "metadata": {},
     "output_type": "execute_result"
    }
   ],
   "source": [
    "daten = request_and_read(zeit_online_dict[\"uri\"][0],10,0) # retrieves the first article\n",
    "daten"
   ]
  },
  {
   "cell_type": "markdown",
   "metadata": {},
   "source": [
    "In spite of the truncated view, at the content endpoint we can find other useful information, like keywords and authors"
   ]
  },
  {
   "cell_type": "code",
   "execution_count": 18,
   "metadata": {},
   "outputs": [],
   "source": [
    "def get_daten(l):\n",
    "    daten = {'teaser_title':[],'uuid':[],'title':[],\n",
    "             'release_date':[],'uri':[],'relations':[], \n",
    "             'supertitle':[], 'href':[], 'teaser_text':[], \n",
    "             'keywords':[], 'creators':[], 'categories':[]} # dictionary that receives the data\n",
    "    for uri in l:\n",
    "        info = request_and_read(str(uri),10,0) # makes a request and reads the results\n",
    "        \n",
    "#         if info.keys()==daten.keys(): # Compares keys in daten and keys in output dictionary\n",
    "                                        # This avoids troublesome data\n",
    "            \n",
    "            # Every key in the dictionary contains multiple values\n",
    "            \n",
    "            # If the keys in the daten dictionary match the keys in the output dictionary, adds data to daten\n",
    "        daten[\"uri\"].append(info[\"uri\"])\n",
    "    \n",
    "        for word in info[\"keywords\"]: # loops through the items in keywords\n",
    "                                            \n",
    "            \n",
    "            daten[\"keywords\"].append((str(uri),word[\"name\"])) \n",
    "                \n",
    "    \n",
    "        for creator in info[\"creators\"]: \n",
    "            daten[\"creators\"].append((str(uri),creator[\"name\"]))\n",
    "        \n",
    "    \n",
    "        for c in info[\"categories\"]: \n",
    "            daten[\"categories\"].append((str(uri),c[\"name\"]))\n",
    "        \n",
    "        \n",
    "    return daten # Some keys will remain empty, since they've already been collected before\n",
    "        "
   ]
  },
  {
   "cell_type": "code",
   "execution_count": 19,
   "metadata": {},
   "outputs": [],
   "source": [
    "zeit_online_daten  = get_daten(zeit_online_dict[\"uri\"])"
   ]
  },
  {
   "cell_type": "markdown",
   "metadata": {},
   "source": [
    "## Controling The Results"
   ]
  },
  {
   "cell_type": "code",
   "execution_count": 20,
   "metadata": {},
   "outputs": [
    {
     "name": "stdout",
     "output_type": "stream",
     "text": [
      "teaser_title   0\n",
      "uuid   0\n",
      "title   0\n",
      "release_date   0\n",
      "uri   999\n",
      "relations   0\n",
      "supertitle   0\n",
      "href   0\n",
      "teaser_text   0\n",
      "keywords   3870\n",
      "creators   1130\n",
      "categories   1051\n"
     ]
    }
   ],
   "source": [
    "for key in zeit_online_daten:\n",
    "    print(key,\" \",len(zeit_online_daten[key]))"
   ]
  },
  {
   "cell_type": "code",
   "execution_count": 21,
   "metadata": {},
   "outputs": [
    {
     "data": {
      "text/plain": [
       "['http://api.zeit.de/content/tjGeyYcvvupRcjD5YaTzG',\n",
       " 'http://api.zeit.de/content/660V6H9CAOTGTw0HD6GT1x',\n",
       " 'http://api.zeit.de/content/7JnTgL9LnGtuIY8ESds5e0',\n",
       " 'http://api.zeit.de/content/6X1Ngx5oYPZW4o1VuCyZoY',\n",
       " 'http://api.zeit.de/content/2rEXFrxDqow80Jii4EO4y2']"
      ]
     },
     "execution_count": 21,
     "metadata": {},
     "output_type": "execute_result"
    }
   ],
   "source": [
    "zeit_online_daten[\"uri\"][:5]"
   ]
  },
  {
   "cell_type": "markdown",
   "metadata": {},
   "source": [
    "Everything seems to be fine, so we'll proceed to retrieve the number of comments for every post."
   ]
  },
  {
   "cell_type": "markdown",
   "metadata": {},
   "source": [
    "## Finding the Number Of Comments\n",
    "\n",
    "In the zeit_online_dict dictionary there is another helpful key, which can aid us to retrieve the number of comments, namely the \"href\" key. It contains the urls for the articles.\n",
    "\n",
    "With WebScrapping, we can access the articles an retrieve the number of comments."
   ]
  },
  {
   "cell_type": "code",
   "execution_count": 22,
   "metadata": {},
   "outputs": [
    {
     "data": {
      "text/plain": [
       "['http://www.zeit.de/hamburg/2020-04/notaufnahmen-aerzte-coronavirus-verdachtsfall-tests',\n",
       " 'http://www.zeit.de/entdecken/2020-04/oktoberfest-bayern-volksfest-hommage',\n",
       " 'http://www.zeit.de/wissen/gesundheit/2020-04/coronavirus-impfstoff-klinische-studie',\n",
       " 'http://www.zeit.de/sport/2020-04/machtspieler-buch-auszug-syrien',\n",
       " 'http://www.zeit.de/sport/2020-04/wm-prozess-verjaehrungsfrist-verlaengerung-dfb']"
      ]
     },
     "execution_count": 22,
     "metadata": {},
     "output_type": "execute_result"
    }
   ],
   "source": [
    "zeit_online_dict[\"href\"][:5]"
   ]
  },
  {
   "cell_type": "code",
   "execution_count": 23,
   "metadata": {},
   "outputs": [],
   "source": [
    "def new_find_comments(a_list):\n",
    "    kommentare = {\"href\":[],\n",
    "                 \"Kommentare_Anzahl\":[]}\n",
    "    for url in a_list:\n",
    "        \n",
    "        try:\n",
    "            html = requests.get(str(url))\n",
    "            content = BeautifulSoup(html.content,\"html.parser\")\n",
    "            comment = content.find(class_=\"comment-section__headline\")\n",
    "        \n",
    "        # Some elements result in a list object, some objects in a string object\n",
    "        # To avoid errors, the function accepts both outputs\n",
    "        # however another step of data cleaning is necessary\n",
    "        \n",
    "        except:\n",
    "            print(\"Ein Fehler ist bei folgender URI aufgetreten: {}\".format(url))\n",
    "            comment = \"Nicht gefunden\"\n",
    "    \n",
    "        kommentare[\"href\"].append(url)\n",
    "        kommentare[\"Kommentare_Anzahl\"].append(comment)\n",
    "    \n",
    "    kommentare = pd.DataFrame(kommentare)                                           \n",
    "    \n",
    "    return kommentare # Output is a DataFrame\n",
    "\n",
    "# This function can be optimized, among other things to clean the number of comments inside the function"
   ]
  },
  {
   "cell_type": "code",
   "execution_count": 24,
   "metadata": {},
   "outputs": [],
   "source": [
    "kommentare_zeit_online = new_find_comments(zeit_online_dict[\"href\"])"
   ]
  },
  {
   "cell_type": "markdown",
   "metadata": {},
   "source": [
    "## Controling Results"
   ]
  },
  {
   "cell_type": "code",
   "execution_count": 25,
   "metadata": {},
   "outputs": [
    {
     "data": {
      "text/plain": [
       "href                   0\n",
       "Kommentare_Anzahl    103\n",
       "dtype: int64"
      ]
     },
     "execution_count": 25,
     "metadata": {},
     "output_type": "execute_result"
    }
   ],
   "source": [
    "kommentare_zeit_online.isnull().sum()"
   ]
  },
  {
   "cell_type": "markdown",
   "metadata": {},
   "source": [
    "Again, everything seems to be alright, even though no comments were found for 103 articles."
   ]
  },
  {
   "cell_type": "markdown",
   "metadata": {},
   "source": [
    "# Data Cleaning\n",
    "\n",
    "At the present moment, we have three objects containing data:\n",
    "\n",
    "1) A dictionary called zeit_online_dict, with the results of the first data wrangling\n",
    "\n",
    "2) The zeit_online_daten resulting from the second data gathering\n",
    "\n",
    "3) A DataFrame containing the commentaries from every url in the zeit_online_dict\n",
    "\n",
    "The first thing to do is to transform these objects into others that make it easier to manipulate data."
   ]
  },
  {
   "cell_type": "markdown",
   "metadata": {},
   "source": [
    "## Transforming Dictionaries in DataFrames\n",
    "\n",
    "Notice that the way we collected the data helps a direct transformation"
   ]
  },
  {
   "cell_type": "code",
   "execution_count": 26,
   "metadata": {
    "scrolled": true
   },
   "outputs": [
    {
     "data": {
      "text/html": [
       "<div>\n",
       "<style scoped>\n",
       "    .dataframe tbody tr th:only-of-type {\n",
       "        vertical-align: middle;\n",
       "    }\n",
       "\n",
       "    .dataframe tbody tr th {\n",
       "        vertical-align: top;\n",
       "    }\n",
       "\n",
       "    .dataframe thead th {\n",
       "        text-align: right;\n",
       "    }\n",
       "</style>\n",
       "<table border=\"1\" class=\"dataframe\">\n",
       "  <thead>\n",
       "    <tr style=\"text-align: right;\">\n",
       "      <th></th>\n",
       "      <th>subtitle</th>\n",
       "      <th>uuid</th>\n",
       "      <th>title</th>\n",
       "      <th>href</th>\n",
       "      <th>release_date</th>\n",
       "      <th>uri</th>\n",
       "      <th>supertitle</th>\n",
       "      <th>teaser_text</th>\n",
       "      <th>teaser_title</th>\n",
       "    </tr>\n",
       "  </thead>\n",
       "  <tbody>\n",
       "    <tr>\n",
       "      <td>0</td>\n",
       "      <td>Die Notaufnahme ist das wichtigste Tor ins Kra...</td>\n",
       "      <td>tjGeyYcvvupRcjD5YaTzG</td>\n",
       "      <td>Ein Netz, das Viren fangen kann</td>\n",
       "      <td>http://www.zeit.de/hamburg/2020-04/notaufnahme...</td>\n",
       "      <td>2020-04-22T13:54:56Z</td>\n",
       "      <td>http://api.zeit.de/content/tjGeyYcvvupRcjD5YaTzG</td>\n",
       "      <td>Notaufnahmen</td>\n",
       "      <td>Die Notaufnahme ist das wichtigste Tor ins Kra...</td>\n",
       "      <td>Ein Netz, das Viren fangen kann</td>\n",
       "    </tr>\n",
       "    <tr>\n",
       "      <td>1</td>\n",
       "      <td>Unsere Autorin wuchs nahe der Wiesn auf, die 2...</td>\n",
       "      <td>660V6H9CAOTGTw0HD6GT1x</td>\n",
       "      <td>Warum ich die Wiesn trotzdem vermissen werde</td>\n",
       "      <td>http://www.zeit.de/entdecken/2020-04/oktoberfe...</td>\n",
       "      <td>2020-04-22T13:52:29Z</td>\n",
       "      <td>http://api.zeit.de/content/660V6H9CAOTGTw0HD6GT1x</td>\n",
       "      <td>Oktoberfest</td>\n",
       "      <td>Unsere Autorin wuchs nahe der Wiesn auf, die 2...</td>\n",
       "      <td>Warum ich die Wiesn trotzdem vermissen werde</td>\n",
       "    </tr>\n",
       "    <tr>\n",
       "      <td>2</td>\n",
       "      <td>In Deutschland ist zum ersten Mal eine klinisc...</td>\n",
       "      <td>7JnTgL9LnGtuIY8ESds5e0</td>\n",
       "      <td>Erste klinische Studie zu Corona-Impfstoff zug...</td>\n",
       "      <td>http://www.zeit.de/wissen/gesundheit/2020-04/c...</td>\n",
       "      <td>2020-04-22T12:46:27Z</td>\n",
       "      <td>http://api.zeit.de/content/7JnTgL9LnGtuIY8ESds5e0</td>\n",
       "      <td>Coronavirus</td>\n",
       "      <td>In Deutschland ist zum ersten Mal eine klinisc...</td>\n",
       "      <td>Erste klinische Studie zu Corona-Impfstoff zug...</td>\n",
       "    </tr>\n",
       "    <tr>\n",
       "      <td>3</td>\n",
       "      <td>Das Buch \"Machtspieler\" erzählt, wie Fußball b...</td>\n",
       "      <td>6X1Ngx5oYPZW4o1VuCyZoY</td>\n",
       "      <td>Fußball als Kriegswaffe</td>\n",
       "      <td>http://www.zeit.de/sport/2020-04/machtspieler-...</td>\n",
       "      <td>2020-04-22T12:16:04Z</td>\n",
       "      <td>http://api.zeit.de/content/6X1Ngx5oYPZW4o1VuCyZoY</td>\n",
       "      <td>Buch \"Machtspieler\"</td>\n",
       "      <td>Das Buch \"Machtspieler\" erzählt, wie Fußball b...</td>\n",
       "      <td>Fußball als Kriegswaffe</td>\n",
       "    </tr>\n",
       "    <tr>\n",
       "      <td>4</td>\n",
       "      <td>Der Prozess um die Betrugsvorwürfe um die Fußb...</td>\n",
       "      <td>2rEXFrxDqow80Jii4EO4y2</td>\n",
       "      <td>Prozess um Fußball-WM 2006 wird eingestellt</td>\n",
       "      <td>http://www.zeit.de/sport/2020-04/wm-prozess-ve...</td>\n",
       "      <td>2020-04-22T11:58:53Z</td>\n",
       "      <td>http://api.zeit.de/content/2rEXFrxDqow80Jii4EO4y2</td>\n",
       "      <td>WM-Prozess</td>\n",
       "      <td>Der Prozess um die Betrugsvorwürfe um die Fußb...</td>\n",
       "      <td>Prozess um Fußball-WM 2006 wird eingestellt</td>\n",
       "    </tr>\n",
       "  </tbody>\n",
       "</table>\n",
       "</div>"
      ],
      "text/plain": [
       "                                            subtitle                    uuid  \\\n",
       "0  Die Notaufnahme ist das wichtigste Tor ins Kra...   tjGeyYcvvupRcjD5YaTzG   \n",
       "1  Unsere Autorin wuchs nahe der Wiesn auf, die 2...  660V6H9CAOTGTw0HD6GT1x   \n",
       "2  In Deutschland ist zum ersten Mal eine klinisc...  7JnTgL9LnGtuIY8ESds5e0   \n",
       "3  Das Buch \"Machtspieler\" erzählt, wie Fußball b...  6X1Ngx5oYPZW4o1VuCyZoY   \n",
       "4  Der Prozess um die Betrugsvorwürfe um die Fußb...  2rEXFrxDqow80Jii4EO4y2   \n",
       "\n",
       "                                               title  \\\n",
       "0                    Ein Netz, das Viren fangen kann   \n",
       "1       Warum ich die Wiesn trotzdem vermissen werde   \n",
       "2  Erste klinische Studie zu Corona-Impfstoff zug...   \n",
       "3                            Fußball als Kriegswaffe   \n",
       "4        Prozess um Fußball-WM 2006 wird eingestellt   \n",
       "\n",
       "                                                href          release_date  \\\n",
       "0  http://www.zeit.de/hamburg/2020-04/notaufnahme...  2020-04-22T13:54:56Z   \n",
       "1  http://www.zeit.de/entdecken/2020-04/oktoberfe...  2020-04-22T13:52:29Z   \n",
       "2  http://www.zeit.de/wissen/gesundheit/2020-04/c...  2020-04-22T12:46:27Z   \n",
       "3  http://www.zeit.de/sport/2020-04/machtspieler-...  2020-04-22T12:16:04Z   \n",
       "4  http://www.zeit.de/sport/2020-04/wm-prozess-ve...  2020-04-22T11:58:53Z   \n",
       "\n",
       "                                                 uri           supertitle  \\\n",
       "0   http://api.zeit.de/content/tjGeyYcvvupRcjD5YaTzG         Notaufnahmen   \n",
       "1  http://api.zeit.de/content/660V6H9CAOTGTw0HD6GT1x          Oktoberfest   \n",
       "2  http://api.zeit.de/content/7JnTgL9LnGtuIY8ESds5e0          Coronavirus   \n",
       "3  http://api.zeit.de/content/6X1Ngx5oYPZW4o1VuCyZoY  Buch \"Machtspieler\"   \n",
       "4  http://api.zeit.de/content/2rEXFrxDqow80Jii4EO4y2           WM-Prozess   \n",
       "\n",
       "                                         teaser_text  \\\n",
       "0  Die Notaufnahme ist das wichtigste Tor ins Kra...   \n",
       "1  Unsere Autorin wuchs nahe der Wiesn auf, die 2...   \n",
       "2  In Deutschland ist zum ersten Mal eine klinisc...   \n",
       "3  Das Buch \"Machtspieler\" erzählt, wie Fußball b...   \n",
       "4  Der Prozess um die Betrugsvorwürfe um die Fußb...   \n",
       "\n",
       "                                        teaser_title  \n",
       "0                    Ein Netz, das Viren fangen kann  \n",
       "1       Warum ich die Wiesn trotzdem vermissen werde  \n",
       "2  Erste klinische Studie zu Corona-Impfstoff zug...  \n",
       "3                            Fußball als Kriegswaffe  \n",
       "4        Prozess um Fußball-WM 2006 wird eingestellt  "
      ]
     },
     "execution_count": 26,
     "metadata": {},
     "output_type": "execute_result"
    }
   ],
   "source": [
    "zeit_online_dict_df = pd.DataFrame(zeit_online_dict)\n",
    "zeit_online_dict_df.head()"
   ]
  },
  {
   "cell_type": "markdown",
   "metadata": {},
   "source": [
    "### Organizing the Data\n",
    "\n",
    "The zeit_online_daten dictionary has keys with different lengths, for this reason, the conversion is not so straight forward. Therefore, we have to organize the data first. "
   ]
  },
  {
   "cell_type": "code",
   "execution_count": 27,
   "metadata": {},
   "outputs": [],
   "source": [
    "def organize(l):\n",
    "    end_values = [] # Creates a list\n",
    "    \n",
    "    df = pd.DataFrame(l) \n",
    "    # Converts the list into a DataFrame\n",
    "    # the resulting columns of the DataFrame after the conversion are 0 and 1\n",
    "    \n",
    "    for uri in df[0].unique(): # For loop through the unique uris\n",
    "        group = df.loc[df[0]==uri,1] # Groups keywords according to uri and selects the 1 column\n",
    "        wanted_values = group.values # Gets the values contained in the column related to each uri\n",
    "        end_values.append([uri,wanted_values]) # Appends the uri and the values to the end values list\n",
    "        \n",
    "    end_values = pd.DataFrame(end_values) # Converts series into a DataFrame\n",
    "    return end_values # Putput is a DataFrame\n"
   ]
  },
  {
   "cell_type": "code",
   "execution_count": 28,
   "metadata": {},
   "outputs": [
    {
     "data": {
      "text/html": [
       "<div>\n",
       "<style scoped>\n",
       "    .dataframe tbody tr th:only-of-type {\n",
       "        vertical-align: middle;\n",
       "    }\n",
       "\n",
       "    .dataframe tbody tr th {\n",
       "        vertical-align: top;\n",
       "    }\n",
       "\n",
       "    .dataframe thead th {\n",
       "        text-align: right;\n",
       "    }\n",
       "</style>\n",
       "<table border=\"1\" class=\"dataframe\">\n",
       "  <thead>\n",
       "    <tr style=\"text-align: right;\">\n",
       "      <th></th>\n",
       "      <th>0</th>\n",
       "      <th>1</th>\n",
       "    </tr>\n",
       "  </thead>\n",
       "  <tbody>\n",
       "    <tr>\n",
       "      <td>0</td>\n",
       "      <td>http://api.zeit.de/content/tjGeyYcvvupRcjD5YaTzG</td>\n",
       "      <td>[Krankenhaus, Infektion, Pflegeheim, Gesundhei...</td>\n",
       "    </tr>\n",
       "    <tr>\n",
       "      <td>1</td>\n",
       "      <td>http://api.zeit.de/content/660V6H9CAOTGTw0HD6GT1x</td>\n",
       "      <td>[Ausnahmezustand, Oktoberfest, Bayern]</td>\n",
       "    </tr>\n",
       "    <tr>\n",
       "      <td>2</td>\n",
       "      <td>http://api.zeit.de/content/7JnTgL9LnGtuIY8ESds5e0</td>\n",
       "      <td>[Gesundheitssystem, Medizintechnik, Mainz, Rhe...</td>\n",
       "    </tr>\n",
       "    <tr>\n",
       "      <td>3</td>\n",
       "      <td>http://api.zeit.de/content/6X1Ngx5oYPZW4o1VuCyZoY</td>\n",
       "      <td>[Literatur, Syrien, Baschar al-Assad]</td>\n",
       "    </tr>\n",
       "    <tr>\n",
       "      <td>4</td>\n",
       "      <td>http://api.zeit.de/content/2rEXFrxDqow80Jii4EO4y2</td>\n",
       "      <td>[Theo Zwanziger, Wolfgang Niersbach, Franz Bec...</td>\n",
       "    </tr>\n",
       "  </tbody>\n",
       "</table>\n",
       "</div>"
      ],
      "text/plain": [
       "                                                   0  \\\n",
       "0   http://api.zeit.de/content/tjGeyYcvvupRcjD5YaTzG   \n",
       "1  http://api.zeit.de/content/660V6H9CAOTGTw0HD6GT1x   \n",
       "2  http://api.zeit.de/content/7JnTgL9LnGtuIY8ESds5e0   \n",
       "3  http://api.zeit.de/content/6X1Ngx5oYPZW4o1VuCyZoY   \n",
       "4  http://api.zeit.de/content/2rEXFrxDqow80Jii4EO4y2   \n",
       "\n",
       "                                                   1  \n",
       "0  [Krankenhaus, Infektion, Pflegeheim, Gesundhei...  \n",
       "1             [Ausnahmezustand, Oktoberfest, Bayern]  \n",
       "2  [Gesundheitssystem, Medizintechnik, Mainz, Rhe...  \n",
       "3              [Literatur, Syrien, Baschar al-Assad]  \n",
       "4  [Theo Zwanziger, Wolfgang Niersbach, Franz Bec...  "
      ]
     },
     "execution_count": 28,
     "metadata": {},
     "output_type": "execute_result"
    }
   ],
   "source": [
    "keywords = organize(zeit_online_daten[\"keywords\"])\n",
    "autors = organize(zeit_online_daten[\"creators\"])\n",
    "products = organize(zeit_online_daten[\"categories\"])\n",
    "keywords.head()"
   ]
  },
  {
   "cell_type": "markdown",
   "metadata": {},
   "source": [
    "### Chaging the Name of the Columns"
   ]
  },
  {
   "cell_type": "code",
   "execution_count": 29,
   "metadata": {},
   "outputs": [],
   "source": [
    "keywords.columns = [\"uri\",\"keywords\"]\n",
    "autors.columns = [\"uri\",\"autors\"]\n",
    "products.columns = [\"uri\",\"product\"]"
   ]
  },
  {
   "cell_type": "code",
   "execution_count": 30,
   "metadata": {},
   "outputs": [
    {
     "data": {
      "text/html": [
       "<div>\n",
       "<style scoped>\n",
       "    .dataframe tbody tr th:only-of-type {\n",
       "        vertical-align: middle;\n",
       "    }\n",
       "\n",
       "    .dataframe tbody tr th {\n",
       "        vertical-align: top;\n",
       "    }\n",
       "\n",
       "    .dataframe thead th {\n",
       "        text-align: right;\n",
       "    }\n",
       "</style>\n",
       "<table border=\"1\" class=\"dataframe\">\n",
       "  <thead>\n",
       "    <tr style=\"text-align: right;\">\n",
       "      <th></th>\n",
       "      <th>uri</th>\n",
       "      <th>keywords</th>\n",
       "    </tr>\n",
       "  </thead>\n",
       "  <tbody>\n",
       "    <tr>\n",
       "      <td>0</td>\n",
       "      <td>http://api.zeit.de/content/tjGeyYcvvupRcjD5YaTzG</td>\n",
       "      <td>[Krankenhaus, Infektion, Pflegeheim, Gesundhei...</td>\n",
       "    </tr>\n",
       "    <tr>\n",
       "      <td>1</td>\n",
       "      <td>http://api.zeit.de/content/660V6H9CAOTGTw0HD6GT1x</td>\n",
       "      <td>[Ausnahmezustand, Oktoberfest, Bayern]</td>\n",
       "    </tr>\n",
       "  </tbody>\n",
       "</table>\n",
       "</div>"
      ],
      "text/plain": [
       "                                                 uri  \\\n",
       "0   http://api.zeit.de/content/tjGeyYcvvupRcjD5YaTzG   \n",
       "1  http://api.zeit.de/content/660V6H9CAOTGTw0HD6GT1x   \n",
       "\n",
       "                                            keywords  \n",
       "0  [Krankenhaus, Infektion, Pflegeheim, Gesundhei...  \n",
       "1             [Ausnahmezustand, Oktoberfest, Bayern]  "
      ]
     },
     "execution_count": 30,
     "metadata": {},
     "output_type": "execute_result"
    }
   ],
   "source": [
    "keywords.head(2)"
   ]
  },
  {
   "cell_type": "markdown",
   "metadata": {},
   "source": [
    "## Merging The DataFrames\n",
    "\n",
    "Finally we can merge the DataFrames. To make the results clear, we can use the merge method, which works much like a SQL join.\n",
    "\n",
    "**1) zeit_online_dict_df on keywords**"
   ]
  },
  {
   "cell_type": "code",
   "execution_count": 31,
   "metadata": {},
   "outputs": [],
   "source": [
    "zeit_online_df = zeit_online_dict_df.merge(keywords,how=\"inner\",on=\"uri\")"
   ]
  },
  {
   "cell_type": "code",
   "execution_count": 32,
   "metadata": {},
   "outputs": [
    {
     "data": {
      "text/html": [
       "<div>\n",
       "<style scoped>\n",
       "    .dataframe tbody tr th:only-of-type {\n",
       "        vertical-align: middle;\n",
       "    }\n",
       "\n",
       "    .dataframe tbody tr th {\n",
       "        vertical-align: top;\n",
       "    }\n",
       "\n",
       "    .dataframe thead th {\n",
       "        text-align: right;\n",
       "    }\n",
       "</style>\n",
       "<table border=\"1\" class=\"dataframe\">\n",
       "  <thead>\n",
       "    <tr style=\"text-align: right;\">\n",
       "      <th></th>\n",
       "      <th>subtitle</th>\n",
       "      <th>uuid</th>\n",
       "      <th>title</th>\n",
       "      <th>href</th>\n",
       "      <th>release_date</th>\n",
       "      <th>uri</th>\n",
       "      <th>supertitle</th>\n",
       "      <th>teaser_text</th>\n",
       "      <th>teaser_title</th>\n",
       "      <th>keywords</th>\n",
       "    </tr>\n",
       "  </thead>\n",
       "  <tbody>\n",
       "    <tr>\n",
       "      <td>0</td>\n",
       "      <td>Die Notaufnahme ist das wichtigste Tor ins Kra...</td>\n",
       "      <td>tjGeyYcvvupRcjD5YaTzG</td>\n",
       "      <td>Ein Netz, das Viren fangen kann</td>\n",
       "      <td>http://www.zeit.de/hamburg/2020-04/notaufnahme...</td>\n",
       "      <td>2020-04-22T13:54:56Z</td>\n",
       "      <td>http://api.zeit.de/content/tjGeyYcvvupRcjD5YaTzG</td>\n",
       "      <td>Notaufnahmen</td>\n",
       "      <td>Die Notaufnahme ist das wichtigste Tor ins Kra...</td>\n",
       "      <td>Ein Netz, das Viren fangen kann</td>\n",
       "      <td>[Krankenhaus, Infektion, Pflegeheim, Gesundhei...</td>\n",
       "    </tr>\n",
       "    <tr>\n",
       "      <td>1</td>\n",
       "      <td>Unsere Autorin wuchs nahe der Wiesn auf, die 2...</td>\n",
       "      <td>660V6H9CAOTGTw0HD6GT1x</td>\n",
       "      <td>Warum ich die Wiesn trotzdem vermissen werde</td>\n",
       "      <td>http://www.zeit.de/entdecken/2020-04/oktoberfe...</td>\n",
       "      <td>2020-04-22T13:52:29Z</td>\n",
       "      <td>http://api.zeit.de/content/660V6H9CAOTGTw0HD6GT1x</td>\n",
       "      <td>Oktoberfest</td>\n",
       "      <td>Unsere Autorin wuchs nahe der Wiesn auf, die 2...</td>\n",
       "      <td>Warum ich die Wiesn trotzdem vermissen werde</td>\n",
       "      <td>[Ausnahmezustand, Oktoberfest, Bayern]</td>\n",
       "    </tr>\n",
       "    <tr>\n",
       "      <td>2</td>\n",
       "      <td>In Deutschland ist zum ersten Mal eine klinisc...</td>\n",
       "      <td>7JnTgL9LnGtuIY8ESds5e0</td>\n",
       "      <td>Erste klinische Studie zu Corona-Impfstoff zug...</td>\n",
       "      <td>http://www.zeit.de/wissen/gesundheit/2020-04/c...</td>\n",
       "      <td>2020-04-22T12:46:27Z</td>\n",
       "      <td>http://api.zeit.de/content/7JnTgL9LnGtuIY8ESds5e0</td>\n",
       "      <td>Coronavirus</td>\n",
       "      <td>In Deutschland ist zum ersten Mal eine klinisc...</td>\n",
       "      <td>Erste klinische Studie zu Corona-Impfstoff zug...</td>\n",
       "      <td>[Gesundheitssystem, Medizintechnik, Mainz, Rhe...</td>\n",
       "    </tr>\n",
       "    <tr>\n",
       "      <td>3</td>\n",
       "      <td>Das Buch \"Machtspieler\" erzählt, wie Fußball b...</td>\n",
       "      <td>6X1Ngx5oYPZW4o1VuCyZoY</td>\n",
       "      <td>Fußball als Kriegswaffe</td>\n",
       "      <td>http://www.zeit.de/sport/2020-04/machtspieler-...</td>\n",
       "      <td>2020-04-22T12:16:04Z</td>\n",
       "      <td>http://api.zeit.de/content/6X1Ngx5oYPZW4o1VuCyZoY</td>\n",
       "      <td>Buch \"Machtspieler\"</td>\n",
       "      <td>Das Buch \"Machtspieler\" erzählt, wie Fußball b...</td>\n",
       "      <td>Fußball als Kriegswaffe</td>\n",
       "      <td>[Literatur, Syrien, Baschar al-Assad]</td>\n",
       "    </tr>\n",
       "    <tr>\n",
       "      <td>4</td>\n",
       "      <td>Der Prozess um die Betrugsvorwürfe um die Fußb...</td>\n",
       "      <td>2rEXFrxDqow80Jii4EO4y2</td>\n",
       "      <td>Prozess um Fußball-WM 2006 wird eingestellt</td>\n",
       "      <td>http://www.zeit.de/sport/2020-04/wm-prozess-ve...</td>\n",
       "      <td>2020-04-22T11:58:53Z</td>\n",
       "      <td>http://api.zeit.de/content/2rEXFrxDqow80Jii4EO4y2</td>\n",
       "      <td>WM-Prozess</td>\n",
       "      <td>Der Prozess um die Betrugsvorwürfe um die Fußb...</td>\n",
       "      <td>Prozess um Fußball-WM 2006 wird eingestellt</td>\n",
       "      <td>[Theo Zwanziger, Wolfgang Niersbach, Franz Bec...</td>\n",
       "    </tr>\n",
       "  </tbody>\n",
       "</table>\n",
       "</div>"
      ],
      "text/plain": [
       "                                            subtitle                    uuid  \\\n",
       "0  Die Notaufnahme ist das wichtigste Tor ins Kra...   tjGeyYcvvupRcjD5YaTzG   \n",
       "1  Unsere Autorin wuchs nahe der Wiesn auf, die 2...  660V6H9CAOTGTw0HD6GT1x   \n",
       "2  In Deutschland ist zum ersten Mal eine klinisc...  7JnTgL9LnGtuIY8ESds5e0   \n",
       "3  Das Buch \"Machtspieler\" erzählt, wie Fußball b...  6X1Ngx5oYPZW4o1VuCyZoY   \n",
       "4  Der Prozess um die Betrugsvorwürfe um die Fußb...  2rEXFrxDqow80Jii4EO4y2   \n",
       "\n",
       "                                               title  \\\n",
       "0                    Ein Netz, das Viren fangen kann   \n",
       "1       Warum ich die Wiesn trotzdem vermissen werde   \n",
       "2  Erste klinische Studie zu Corona-Impfstoff zug...   \n",
       "3                            Fußball als Kriegswaffe   \n",
       "4        Prozess um Fußball-WM 2006 wird eingestellt   \n",
       "\n",
       "                                                href          release_date  \\\n",
       "0  http://www.zeit.de/hamburg/2020-04/notaufnahme...  2020-04-22T13:54:56Z   \n",
       "1  http://www.zeit.de/entdecken/2020-04/oktoberfe...  2020-04-22T13:52:29Z   \n",
       "2  http://www.zeit.de/wissen/gesundheit/2020-04/c...  2020-04-22T12:46:27Z   \n",
       "3  http://www.zeit.de/sport/2020-04/machtspieler-...  2020-04-22T12:16:04Z   \n",
       "4  http://www.zeit.de/sport/2020-04/wm-prozess-ve...  2020-04-22T11:58:53Z   \n",
       "\n",
       "                                                 uri           supertitle  \\\n",
       "0   http://api.zeit.de/content/tjGeyYcvvupRcjD5YaTzG         Notaufnahmen   \n",
       "1  http://api.zeit.de/content/660V6H9CAOTGTw0HD6GT1x          Oktoberfest   \n",
       "2  http://api.zeit.de/content/7JnTgL9LnGtuIY8ESds5e0          Coronavirus   \n",
       "3  http://api.zeit.de/content/6X1Ngx5oYPZW4o1VuCyZoY  Buch \"Machtspieler\"   \n",
       "4  http://api.zeit.de/content/2rEXFrxDqow80Jii4EO4y2           WM-Prozess   \n",
       "\n",
       "                                         teaser_text  \\\n",
       "0  Die Notaufnahme ist das wichtigste Tor ins Kra...   \n",
       "1  Unsere Autorin wuchs nahe der Wiesn auf, die 2...   \n",
       "2  In Deutschland ist zum ersten Mal eine klinisc...   \n",
       "3  Das Buch \"Machtspieler\" erzählt, wie Fußball b...   \n",
       "4  Der Prozess um die Betrugsvorwürfe um die Fußb...   \n",
       "\n",
       "                                        teaser_title  \\\n",
       "0                    Ein Netz, das Viren fangen kann   \n",
       "1       Warum ich die Wiesn trotzdem vermissen werde   \n",
       "2  Erste klinische Studie zu Corona-Impfstoff zug...   \n",
       "3                            Fußball als Kriegswaffe   \n",
       "4        Prozess um Fußball-WM 2006 wird eingestellt   \n",
       "\n",
       "                                            keywords  \n",
       "0  [Krankenhaus, Infektion, Pflegeheim, Gesundhei...  \n",
       "1             [Ausnahmezustand, Oktoberfest, Bayern]  \n",
       "2  [Gesundheitssystem, Medizintechnik, Mainz, Rhe...  \n",
       "3              [Literatur, Syrien, Baschar al-Assad]  \n",
       "4  [Theo Zwanziger, Wolfgang Niersbach, Franz Bec...  "
      ]
     },
     "execution_count": 32,
     "metadata": {},
     "output_type": "execute_result"
    }
   ],
   "source": [
    "zeit_online_df.head()"
   ]
  },
  {
   "cell_type": "markdown",
   "metadata": {},
   "source": [
    "**2) zeit_online_df on autors**"
   ]
  },
  {
   "cell_type": "code",
   "execution_count": 33,
   "metadata": {
    "scrolled": true
   },
   "outputs": [
    {
     "data": {
      "text/html": [
       "<div>\n",
       "<style scoped>\n",
       "    .dataframe tbody tr th:only-of-type {\n",
       "        vertical-align: middle;\n",
       "    }\n",
       "\n",
       "    .dataframe tbody tr th {\n",
       "        vertical-align: top;\n",
       "    }\n",
       "\n",
       "    .dataframe thead th {\n",
       "        text-align: right;\n",
       "    }\n",
       "</style>\n",
       "<table border=\"1\" class=\"dataframe\">\n",
       "  <thead>\n",
       "    <tr style=\"text-align: right;\">\n",
       "      <th></th>\n",
       "      <th>subtitle</th>\n",
       "      <th>uuid</th>\n",
       "      <th>title</th>\n",
       "      <th>href</th>\n",
       "      <th>release_date</th>\n",
       "      <th>uri</th>\n",
       "      <th>supertitle</th>\n",
       "      <th>teaser_text</th>\n",
       "      <th>teaser_title</th>\n",
       "      <th>keywords</th>\n",
       "      <th>autors</th>\n",
       "    </tr>\n",
       "  </thead>\n",
       "  <tbody>\n",
       "    <tr>\n",
       "      <td>0</td>\n",
       "      <td>Die Notaufnahme ist das wichtigste Tor ins Kra...</td>\n",
       "      <td>tjGeyYcvvupRcjD5YaTzG</td>\n",
       "      <td>Ein Netz, das Viren fangen kann</td>\n",
       "      <td>http://www.zeit.de/hamburg/2020-04/notaufnahme...</td>\n",
       "      <td>2020-04-22T13:54:56Z</td>\n",
       "      <td>http://api.zeit.de/content/tjGeyYcvvupRcjD5YaTzG</td>\n",
       "      <td>Notaufnahmen</td>\n",
       "      <td>Die Notaufnahme ist das wichtigste Tor ins Kra...</td>\n",
       "      <td>Ein Netz, das Viren fangen kann</td>\n",
       "      <td>[Krankenhaus, Infektion, Pflegeheim, Gesundhei...</td>\n",
       "      <td>[Nike Heinen]</td>\n",
       "    </tr>\n",
       "    <tr>\n",
       "      <td>1</td>\n",
       "      <td>Unsere Autorin wuchs nahe der Wiesn auf, die 2...</td>\n",
       "      <td>660V6H9CAOTGTw0HD6GT1x</td>\n",
       "      <td>Warum ich die Wiesn trotzdem vermissen werde</td>\n",
       "      <td>http://www.zeit.de/entdecken/2020-04/oktoberfe...</td>\n",
       "      <td>2020-04-22T13:52:29Z</td>\n",
       "      <td>http://api.zeit.de/content/660V6H9CAOTGTw0HD6GT1x</td>\n",
       "      <td>Oktoberfest</td>\n",
       "      <td>Unsere Autorin wuchs nahe der Wiesn auf, die 2...</td>\n",
       "      <td>Warum ich die Wiesn trotzdem vermissen werde</td>\n",
       "      <td>[Ausnahmezustand, Oktoberfest, Bayern]</td>\n",
       "      <td>[Elisabeth Kagermeier]</td>\n",
       "    </tr>\n",
       "    <tr>\n",
       "      <td>2</td>\n",
       "      <td>In Deutschland ist zum ersten Mal eine klinisc...</td>\n",
       "      <td>7JnTgL9LnGtuIY8ESds5e0</td>\n",
       "      <td>Erste klinische Studie zu Corona-Impfstoff zug...</td>\n",
       "      <td>http://www.zeit.de/wissen/gesundheit/2020-04/c...</td>\n",
       "      <td>2020-04-22T12:46:27Z</td>\n",
       "      <td>http://api.zeit.de/content/7JnTgL9LnGtuIY8ESds5e0</td>\n",
       "      <td>Coronavirus</td>\n",
       "      <td>In Deutschland ist zum ersten Mal eine klinisc...</td>\n",
       "      <td>Erste klinische Studie zu Corona-Impfstoff zug...</td>\n",
       "      <td>[Gesundheitssystem, Medizintechnik, Mainz, Rhe...</td>\n",
       "      <td>[Sarah Lena Grahn]</td>\n",
       "    </tr>\n",
       "  </tbody>\n",
       "</table>\n",
       "</div>"
      ],
      "text/plain": [
       "                                            subtitle                    uuid  \\\n",
       "0  Die Notaufnahme ist das wichtigste Tor ins Kra...   tjGeyYcvvupRcjD5YaTzG   \n",
       "1  Unsere Autorin wuchs nahe der Wiesn auf, die 2...  660V6H9CAOTGTw0HD6GT1x   \n",
       "2  In Deutschland ist zum ersten Mal eine klinisc...  7JnTgL9LnGtuIY8ESds5e0   \n",
       "\n",
       "                                               title  \\\n",
       "0                    Ein Netz, das Viren fangen kann   \n",
       "1       Warum ich die Wiesn trotzdem vermissen werde   \n",
       "2  Erste klinische Studie zu Corona-Impfstoff zug...   \n",
       "\n",
       "                                                href          release_date  \\\n",
       "0  http://www.zeit.de/hamburg/2020-04/notaufnahme...  2020-04-22T13:54:56Z   \n",
       "1  http://www.zeit.de/entdecken/2020-04/oktoberfe...  2020-04-22T13:52:29Z   \n",
       "2  http://www.zeit.de/wissen/gesundheit/2020-04/c...  2020-04-22T12:46:27Z   \n",
       "\n",
       "                                                 uri    supertitle  \\\n",
       "0   http://api.zeit.de/content/tjGeyYcvvupRcjD5YaTzG  Notaufnahmen   \n",
       "1  http://api.zeit.de/content/660V6H9CAOTGTw0HD6GT1x   Oktoberfest   \n",
       "2  http://api.zeit.de/content/7JnTgL9LnGtuIY8ESds5e0   Coronavirus   \n",
       "\n",
       "                                         teaser_text  \\\n",
       "0  Die Notaufnahme ist das wichtigste Tor ins Kra...   \n",
       "1  Unsere Autorin wuchs nahe der Wiesn auf, die 2...   \n",
       "2  In Deutschland ist zum ersten Mal eine klinisc...   \n",
       "\n",
       "                                        teaser_title  \\\n",
       "0                    Ein Netz, das Viren fangen kann   \n",
       "1       Warum ich die Wiesn trotzdem vermissen werde   \n",
       "2  Erste klinische Studie zu Corona-Impfstoff zug...   \n",
       "\n",
       "                                            keywords                  autors  \n",
       "0  [Krankenhaus, Infektion, Pflegeheim, Gesundhei...           [Nike Heinen]  \n",
       "1             [Ausnahmezustand, Oktoberfest, Bayern]  [Elisabeth Kagermeier]  \n",
       "2  [Gesundheitssystem, Medizintechnik, Mainz, Rhe...      [Sarah Lena Grahn]  "
      ]
     },
     "execution_count": 33,
     "metadata": {},
     "output_type": "execute_result"
    }
   ],
   "source": [
    "zeit_online_df = zeit_online_df.merge(autors,how=\"inner\",on=\"uri\")\n",
    "zeit_online_df.head(3)"
   ]
  },
  {
   "cell_type": "markdown",
   "metadata": {},
   "source": [
    "**3) zeit_online_df on products**"
   ]
  },
  {
   "cell_type": "code",
   "execution_count": 34,
   "metadata": {
    "scrolled": true
   },
   "outputs": [
    {
     "data": {
      "text/html": [
       "<div>\n",
       "<style scoped>\n",
       "    .dataframe tbody tr th:only-of-type {\n",
       "        vertical-align: middle;\n",
       "    }\n",
       "\n",
       "    .dataframe tbody tr th {\n",
       "        vertical-align: top;\n",
       "    }\n",
       "\n",
       "    .dataframe thead th {\n",
       "        text-align: right;\n",
       "    }\n",
       "</style>\n",
       "<table border=\"1\" class=\"dataframe\">\n",
       "  <thead>\n",
       "    <tr style=\"text-align: right;\">\n",
       "      <th></th>\n",
       "      <th>subtitle</th>\n",
       "      <th>uuid</th>\n",
       "      <th>title</th>\n",
       "      <th>href</th>\n",
       "      <th>release_date</th>\n",
       "      <th>uri</th>\n",
       "      <th>supertitle</th>\n",
       "      <th>teaser_text</th>\n",
       "      <th>teaser_title</th>\n",
       "      <th>keywords</th>\n",
       "      <th>autors</th>\n",
       "      <th>product</th>\n",
       "    </tr>\n",
       "  </thead>\n",
       "  <tbody>\n",
       "    <tr>\n",
       "      <td>0</td>\n",
       "      <td>Die Notaufnahme ist das wichtigste Tor ins Kra...</td>\n",
       "      <td>tjGeyYcvvupRcjD5YaTzG</td>\n",
       "      <td>Ein Netz, das Viren fangen kann</td>\n",
       "      <td>http://www.zeit.de/hamburg/2020-04/notaufnahme...</td>\n",
       "      <td>2020-04-22T13:54:56Z</td>\n",
       "      <td>http://api.zeit.de/content/tjGeyYcvvupRcjD5YaTzG</td>\n",
       "      <td>Notaufnahmen</td>\n",
       "      <td>Die Notaufnahme ist das wichtigste Tor ins Kra...</td>\n",
       "      <td>Ein Netz, das Viren fangen kann</td>\n",
       "      <td>[Krankenhaus, Infektion, Pflegeheim, Gesundhei...</td>\n",
       "      <td>[Nike Heinen]</td>\n",
       "      <td>[ZEIT ONLINE]</td>\n",
       "    </tr>\n",
       "    <tr>\n",
       "      <td>1</td>\n",
       "      <td>Unsere Autorin wuchs nahe der Wiesn auf, die 2...</td>\n",
       "      <td>660V6H9CAOTGTw0HD6GT1x</td>\n",
       "      <td>Warum ich die Wiesn trotzdem vermissen werde</td>\n",
       "      <td>http://www.zeit.de/entdecken/2020-04/oktoberfe...</td>\n",
       "      <td>2020-04-22T13:52:29Z</td>\n",
       "      <td>http://api.zeit.de/content/660V6H9CAOTGTw0HD6GT1x</td>\n",
       "      <td>Oktoberfest</td>\n",
       "      <td>Unsere Autorin wuchs nahe der Wiesn auf, die 2...</td>\n",
       "      <td>Warum ich die Wiesn trotzdem vermissen werde</td>\n",
       "      <td>[Ausnahmezustand, Oktoberfest, Bayern]</td>\n",
       "      <td>[Elisabeth Kagermeier]</td>\n",
       "      <td>[ZEIT ONLINE]</td>\n",
       "    </tr>\n",
       "    <tr>\n",
       "      <td>2</td>\n",
       "      <td>In Deutschland ist zum ersten Mal eine klinisc...</td>\n",
       "      <td>7JnTgL9LnGtuIY8ESds5e0</td>\n",
       "      <td>Erste klinische Studie zu Corona-Impfstoff zug...</td>\n",
       "      <td>http://www.zeit.de/wissen/gesundheit/2020-04/c...</td>\n",
       "      <td>2020-04-22T12:46:27Z</td>\n",
       "      <td>http://api.zeit.de/content/7JnTgL9LnGtuIY8ESds5e0</td>\n",
       "      <td>Coronavirus</td>\n",
       "      <td>In Deutschland ist zum ersten Mal eine klinisc...</td>\n",
       "      <td>Erste klinische Studie zu Corona-Impfstoff zug...</td>\n",
       "      <td>[Gesundheitssystem, Medizintechnik, Mainz, Rhe...</td>\n",
       "      <td>[Sarah Lena Grahn]</td>\n",
       "      <td>[ZEIT ONLINE]</td>\n",
       "    </tr>\n",
       "  </tbody>\n",
       "</table>\n",
       "</div>"
      ],
      "text/plain": [
       "                                            subtitle                    uuid  \\\n",
       "0  Die Notaufnahme ist das wichtigste Tor ins Kra...   tjGeyYcvvupRcjD5YaTzG   \n",
       "1  Unsere Autorin wuchs nahe der Wiesn auf, die 2...  660V6H9CAOTGTw0HD6GT1x   \n",
       "2  In Deutschland ist zum ersten Mal eine klinisc...  7JnTgL9LnGtuIY8ESds5e0   \n",
       "\n",
       "                                               title  \\\n",
       "0                    Ein Netz, das Viren fangen kann   \n",
       "1       Warum ich die Wiesn trotzdem vermissen werde   \n",
       "2  Erste klinische Studie zu Corona-Impfstoff zug...   \n",
       "\n",
       "                                                href          release_date  \\\n",
       "0  http://www.zeit.de/hamburg/2020-04/notaufnahme...  2020-04-22T13:54:56Z   \n",
       "1  http://www.zeit.de/entdecken/2020-04/oktoberfe...  2020-04-22T13:52:29Z   \n",
       "2  http://www.zeit.de/wissen/gesundheit/2020-04/c...  2020-04-22T12:46:27Z   \n",
       "\n",
       "                                                 uri    supertitle  \\\n",
       "0   http://api.zeit.de/content/tjGeyYcvvupRcjD5YaTzG  Notaufnahmen   \n",
       "1  http://api.zeit.de/content/660V6H9CAOTGTw0HD6GT1x   Oktoberfest   \n",
       "2  http://api.zeit.de/content/7JnTgL9LnGtuIY8ESds5e0   Coronavirus   \n",
       "\n",
       "                                         teaser_text  \\\n",
       "0  Die Notaufnahme ist das wichtigste Tor ins Kra...   \n",
       "1  Unsere Autorin wuchs nahe der Wiesn auf, die 2...   \n",
       "2  In Deutschland ist zum ersten Mal eine klinisc...   \n",
       "\n",
       "                                        teaser_title  \\\n",
       "0                    Ein Netz, das Viren fangen kann   \n",
       "1       Warum ich die Wiesn trotzdem vermissen werde   \n",
       "2  Erste klinische Studie zu Corona-Impfstoff zug...   \n",
       "\n",
       "                                            keywords                  autors  \\\n",
       "0  [Krankenhaus, Infektion, Pflegeheim, Gesundhei...           [Nike Heinen]   \n",
       "1             [Ausnahmezustand, Oktoberfest, Bayern]  [Elisabeth Kagermeier]   \n",
       "2  [Gesundheitssystem, Medizintechnik, Mainz, Rhe...      [Sarah Lena Grahn]   \n",
       "\n",
       "         product  \n",
       "0  [ZEIT ONLINE]  \n",
       "1  [ZEIT ONLINE]  \n",
       "2  [ZEIT ONLINE]  "
      ]
     },
     "execution_count": 34,
     "metadata": {},
     "output_type": "execute_result"
    }
   ],
   "source": [
    "zeit_online_df = zeit_online_df.merge(products,how=\"inner\",on=\"uri\")\n",
    "zeit_online_df.head(3)"
   ]
  },
  {
   "cell_type": "markdown",
   "metadata": {},
   "source": [
    "**4) zeit_online_df on zeit_online_kommentare**\n",
    "\n",
    "So far, we've done the following:\n",
    "\n",
    "a) Convert the zeit_online_dict into a DataFrame\n",
    "\n",
    "b) Convert the keywords, creators and categories keys from the zeit_online_daten dictionary into DataFrames\n",
    "\n",
    "c) Merged the DataFrames\n",
    "\n",
    "Finally, it's time to add the number of commentaries to the DataFrame"
   ]
  },
  {
   "cell_type": "code",
   "execution_count": 35,
   "metadata": {},
   "outputs": [
    {
     "data": {
      "text/html": [
       "<div>\n",
       "<style scoped>\n",
       "    .dataframe tbody tr th:only-of-type {\n",
       "        vertical-align: middle;\n",
       "    }\n",
       "\n",
       "    .dataframe tbody tr th {\n",
       "        vertical-align: top;\n",
       "    }\n",
       "\n",
       "    .dataframe thead th {\n",
       "        text-align: right;\n",
       "    }\n",
       "</style>\n",
       "<table border=\"1\" class=\"dataframe\">\n",
       "  <thead>\n",
       "    <tr style=\"text-align: right;\">\n",
       "      <th></th>\n",
       "      <th>subtitle</th>\n",
       "      <th>uuid</th>\n",
       "      <th>title</th>\n",
       "      <th>href</th>\n",
       "      <th>release_date</th>\n",
       "      <th>uri</th>\n",
       "      <th>supertitle</th>\n",
       "      <th>teaser_text</th>\n",
       "      <th>teaser_title</th>\n",
       "      <th>keywords</th>\n",
       "      <th>autors</th>\n",
       "      <th>product</th>\n",
       "      <th>Kommentare_Anzahl</th>\n",
       "    </tr>\n",
       "  </thead>\n",
       "  <tbody>\n",
       "    <tr>\n",
       "      <td>0</td>\n",
       "      <td>Die Notaufnahme ist das wichtigste Tor ins Kra...</td>\n",
       "      <td>tjGeyYcvvupRcjD5YaTzG</td>\n",
       "      <td>Ein Netz, das Viren fangen kann</td>\n",
       "      <td>http://www.zeit.de/hamburg/2020-04/notaufnahme...</td>\n",
       "      <td>2020-04-22T13:54:56Z</td>\n",
       "      <td>http://api.zeit.de/content/tjGeyYcvvupRcjD5YaTzG</td>\n",
       "      <td>Notaufnahmen</td>\n",
       "      <td>Die Notaufnahme ist das wichtigste Tor ins Kra...</td>\n",
       "      <td>Ein Netz, das Viren fangen kann</td>\n",
       "      <td>[Krankenhaus, Infektion, Pflegeheim, Gesundhei...</td>\n",
       "      <td>[Nike Heinen]</td>\n",
       "      <td>[ZEIT ONLINE]</td>\n",
       "      <td>None</td>\n",
       "    </tr>\n",
       "    <tr>\n",
       "      <td>1</td>\n",
       "      <td>Unsere Autorin wuchs nahe der Wiesn auf, die 2...</td>\n",
       "      <td>660V6H9CAOTGTw0HD6GT1x</td>\n",
       "      <td>Warum ich die Wiesn trotzdem vermissen werde</td>\n",
       "      <td>http://www.zeit.de/entdecken/2020-04/oktoberfe...</td>\n",
       "      <td>2020-04-22T13:52:29Z</td>\n",
       "      <td>http://api.zeit.de/content/660V6H9CAOTGTw0HD6GT1x</td>\n",
       "      <td>Oktoberfest</td>\n",
       "      <td>Unsere Autorin wuchs nahe der Wiesn auf, die 2...</td>\n",
       "      <td>Warum ich die Wiesn trotzdem vermissen werde</td>\n",
       "      <td>[Ausnahmezustand, Oktoberfest, Bayern]</td>\n",
       "      <td>[Elisabeth Kagermeier]</td>\n",
       "      <td>[ZEIT ONLINE]</td>\n",
       "      <td>[\\n                129 Kommentare\\n           ...</td>\n",
       "    </tr>\n",
       "    <tr>\n",
       "      <td>2</td>\n",
       "      <td>In Deutschland ist zum ersten Mal eine klinisc...</td>\n",
       "      <td>7JnTgL9LnGtuIY8ESds5e0</td>\n",
       "      <td>Erste klinische Studie zu Corona-Impfstoff zug...</td>\n",
       "      <td>http://www.zeit.de/wissen/gesundheit/2020-04/c...</td>\n",
       "      <td>2020-04-22T12:46:27Z</td>\n",
       "      <td>http://api.zeit.de/content/7JnTgL9LnGtuIY8ESds5e0</td>\n",
       "      <td>Coronavirus</td>\n",
       "      <td>In Deutschland ist zum ersten Mal eine klinisc...</td>\n",
       "      <td>Erste klinische Studie zu Corona-Impfstoff zug...</td>\n",
       "      <td>[Gesundheitssystem, Medizintechnik, Mainz, Rhe...</td>\n",
       "      <td>[Sarah Lena Grahn]</td>\n",
       "      <td>[ZEIT ONLINE]</td>\n",
       "      <td>[\\n                28 Kommentare\\n            ...</td>\n",
       "    </tr>\n",
       "    <tr>\n",
       "      <td>3</td>\n",
       "      <td>Das Buch \"Machtspieler\" erzählt, wie Fußball b...</td>\n",
       "      <td>6X1Ngx5oYPZW4o1VuCyZoY</td>\n",
       "      <td>Fußball als Kriegswaffe</td>\n",
       "      <td>http://www.zeit.de/sport/2020-04/machtspieler-...</td>\n",
       "      <td>2020-04-22T12:16:04Z</td>\n",
       "      <td>http://api.zeit.de/content/6X1Ngx5oYPZW4o1VuCyZoY</td>\n",
       "      <td>Buch \"Machtspieler\"</td>\n",
       "      <td>Das Buch \"Machtspieler\" erzählt, wie Fußball b...</td>\n",
       "      <td>Fußball als Kriegswaffe</td>\n",
       "      <td>[Literatur, Syrien, Baschar al-Assad]</td>\n",
       "      <td>[Ronny Blaschke]</td>\n",
       "      <td>[ZEIT ONLINE]</td>\n",
       "      <td>[\\n                4 Kommentare\\n             ...</td>\n",
       "    </tr>\n",
       "    <tr>\n",
       "      <td>4</td>\n",
       "      <td>Der Prozess um die Betrugsvorwürfe um die Fußb...</td>\n",
       "      <td>2rEXFrxDqow80Jii4EO4y2</td>\n",
       "      <td>Prozess um Fußball-WM 2006 wird eingestellt</td>\n",
       "      <td>http://www.zeit.de/sport/2020-04/wm-prozess-ve...</td>\n",
       "      <td>2020-04-22T11:58:53Z</td>\n",
       "      <td>http://api.zeit.de/content/2rEXFrxDqow80Jii4EO4y2</td>\n",
       "      <td>WM-Prozess</td>\n",
       "      <td>Der Prozess um die Betrugsvorwürfe um die Fußb...</td>\n",
       "      <td>Prozess um Fußball-WM 2006 wird eingestellt</td>\n",
       "      <td>[Theo Zwanziger, Wolfgang Niersbach, Franz Bec...</td>\n",
       "      <td>[Anna-Lena Schlitt]</td>\n",
       "      <td>[ZEIT ONLINE]</td>\n",
       "      <td>[\\n                48 Kommentare\\n            ...</td>\n",
       "    </tr>\n",
       "  </tbody>\n",
       "</table>\n",
       "</div>"
      ],
      "text/plain": [
       "                                            subtitle                    uuid  \\\n",
       "0  Die Notaufnahme ist das wichtigste Tor ins Kra...   tjGeyYcvvupRcjD5YaTzG   \n",
       "1  Unsere Autorin wuchs nahe der Wiesn auf, die 2...  660V6H9CAOTGTw0HD6GT1x   \n",
       "2  In Deutschland ist zum ersten Mal eine klinisc...  7JnTgL9LnGtuIY8ESds5e0   \n",
       "3  Das Buch \"Machtspieler\" erzählt, wie Fußball b...  6X1Ngx5oYPZW4o1VuCyZoY   \n",
       "4  Der Prozess um die Betrugsvorwürfe um die Fußb...  2rEXFrxDqow80Jii4EO4y2   \n",
       "\n",
       "                                               title  \\\n",
       "0                    Ein Netz, das Viren fangen kann   \n",
       "1       Warum ich die Wiesn trotzdem vermissen werde   \n",
       "2  Erste klinische Studie zu Corona-Impfstoff zug...   \n",
       "3                            Fußball als Kriegswaffe   \n",
       "4        Prozess um Fußball-WM 2006 wird eingestellt   \n",
       "\n",
       "                                                href          release_date  \\\n",
       "0  http://www.zeit.de/hamburg/2020-04/notaufnahme...  2020-04-22T13:54:56Z   \n",
       "1  http://www.zeit.de/entdecken/2020-04/oktoberfe...  2020-04-22T13:52:29Z   \n",
       "2  http://www.zeit.de/wissen/gesundheit/2020-04/c...  2020-04-22T12:46:27Z   \n",
       "3  http://www.zeit.de/sport/2020-04/machtspieler-...  2020-04-22T12:16:04Z   \n",
       "4  http://www.zeit.de/sport/2020-04/wm-prozess-ve...  2020-04-22T11:58:53Z   \n",
       "\n",
       "                                                 uri           supertitle  \\\n",
       "0   http://api.zeit.de/content/tjGeyYcvvupRcjD5YaTzG         Notaufnahmen   \n",
       "1  http://api.zeit.de/content/660V6H9CAOTGTw0HD6GT1x          Oktoberfest   \n",
       "2  http://api.zeit.de/content/7JnTgL9LnGtuIY8ESds5e0          Coronavirus   \n",
       "3  http://api.zeit.de/content/6X1Ngx5oYPZW4o1VuCyZoY  Buch \"Machtspieler\"   \n",
       "4  http://api.zeit.de/content/2rEXFrxDqow80Jii4EO4y2           WM-Prozess   \n",
       "\n",
       "                                         teaser_text  \\\n",
       "0  Die Notaufnahme ist das wichtigste Tor ins Kra...   \n",
       "1  Unsere Autorin wuchs nahe der Wiesn auf, die 2...   \n",
       "2  In Deutschland ist zum ersten Mal eine klinisc...   \n",
       "3  Das Buch \"Machtspieler\" erzählt, wie Fußball b...   \n",
       "4  Der Prozess um die Betrugsvorwürfe um die Fußb...   \n",
       "\n",
       "                                        teaser_title  \\\n",
       "0                    Ein Netz, das Viren fangen kann   \n",
       "1       Warum ich die Wiesn trotzdem vermissen werde   \n",
       "2  Erste klinische Studie zu Corona-Impfstoff zug...   \n",
       "3                            Fußball als Kriegswaffe   \n",
       "4        Prozess um Fußball-WM 2006 wird eingestellt   \n",
       "\n",
       "                                            keywords                  autors  \\\n",
       "0  [Krankenhaus, Infektion, Pflegeheim, Gesundhei...           [Nike Heinen]   \n",
       "1             [Ausnahmezustand, Oktoberfest, Bayern]  [Elisabeth Kagermeier]   \n",
       "2  [Gesundheitssystem, Medizintechnik, Mainz, Rhe...      [Sarah Lena Grahn]   \n",
       "3              [Literatur, Syrien, Baschar al-Assad]        [Ronny Blaschke]   \n",
       "4  [Theo Zwanziger, Wolfgang Niersbach, Franz Bec...     [Anna-Lena Schlitt]   \n",
       "\n",
       "         product                                  Kommentare_Anzahl  \n",
       "0  [ZEIT ONLINE]                                               None  \n",
       "1  [ZEIT ONLINE]  [\\n                129 Kommentare\\n           ...  \n",
       "2  [ZEIT ONLINE]  [\\n                28 Kommentare\\n            ...  \n",
       "3  [ZEIT ONLINE]  [\\n                4 Kommentare\\n             ...  \n",
       "4  [ZEIT ONLINE]  [\\n                48 Kommentare\\n            ...  "
      ]
     },
     "execution_count": 35,
     "metadata": {},
     "output_type": "execute_result"
    }
   ],
   "source": [
    "zeit_online_df = zeit_online_df.merge(kommentare_zeit_online, how = \"inner\", on = \"href\")\n",
    "zeit_online_df.head()"
   ]
  },
  {
   "cell_type": "markdown",
   "metadata": {},
   "source": [
    "## Cleaning the \"Kommentare_Anzahl\" Column\n",
    "\n",
    "If we take a look at this column, we'll see that it contains extra characters and not only the number of comments. We can use a regular expression to extract just the data we want. We also have to change it to string type(right now it's still a BeautifulSoup object)."
   ]
  },
  {
   "cell_type": "code",
   "execution_count": 36,
   "metadata": {},
   "outputs": [],
   "source": [
    "zeit_online_df[\"Kommentare_Anzahl\"] = zeit_online_df[\"Kommentare_Anzahl\"].astype(str)\n",
    "zeit_online_df[\"Kommentare_Anzahl\"] = zeit_online_df[\"Kommentare_Anzahl\"].str.extract(r\"([\\d]+)\")\n",
    "zeit_online_df[\"Kommentare_Anzahl\"] = zeit_online_df[\"Kommentare_Anzahl\"].astype(float)"
   ]
  },
  {
   "cell_type": "code",
   "execution_count": 37,
   "metadata": {},
   "outputs": [
    {
     "data": {
      "text/html": [
       "<div>\n",
       "<style scoped>\n",
       "    .dataframe tbody tr th:only-of-type {\n",
       "        vertical-align: middle;\n",
       "    }\n",
       "\n",
       "    .dataframe tbody tr th {\n",
       "        vertical-align: top;\n",
       "    }\n",
       "\n",
       "    .dataframe thead th {\n",
       "        text-align: right;\n",
       "    }\n",
       "</style>\n",
       "<table border=\"1\" class=\"dataframe\">\n",
       "  <thead>\n",
       "    <tr style=\"text-align: right;\">\n",
       "      <th></th>\n",
       "      <th>subtitle</th>\n",
       "      <th>uuid</th>\n",
       "      <th>title</th>\n",
       "      <th>href</th>\n",
       "      <th>release_date</th>\n",
       "      <th>uri</th>\n",
       "      <th>supertitle</th>\n",
       "      <th>teaser_text</th>\n",
       "      <th>teaser_title</th>\n",
       "      <th>keywords</th>\n",
       "      <th>autors</th>\n",
       "      <th>product</th>\n",
       "      <th>Kommentare_Anzahl</th>\n",
       "    </tr>\n",
       "  </thead>\n",
       "  <tbody>\n",
       "    <tr>\n",
       "      <td>0</td>\n",
       "      <td>Die Notaufnahme ist das wichtigste Tor ins Kra...</td>\n",
       "      <td>tjGeyYcvvupRcjD5YaTzG</td>\n",
       "      <td>Ein Netz, das Viren fangen kann</td>\n",
       "      <td>http://www.zeit.de/hamburg/2020-04/notaufnahme...</td>\n",
       "      <td>2020-04-22T13:54:56Z</td>\n",
       "      <td>http://api.zeit.de/content/tjGeyYcvvupRcjD5YaTzG</td>\n",
       "      <td>Notaufnahmen</td>\n",
       "      <td>Die Notaufnahme ist das wichtigste Tor ins Kra...</td>\n",
       "      <td>Ein Netz, das Viren fangen kann</td>\n",
       "      <td>[Krankenhaus, Infektion, Pflegeheim, Gesundhei...</td>\n",
       "      <td>[Nike Heinen]</td>\n",
       "      <td>[ZEIT ONLINE]</td>\n",
       "      <td>NaN</td>\n",
       "    </tr>\n",
       "    <tr>\n",
       "      <td>1</td>\n",
       "      <td>Unsere Autorin wuchs nahe der Wiesn auf, die 2...</td>\n",
       "      <td>660V6H9CAOTGTw0HD6GT1x</td>\n",
       "      <td>Warum ich die Wiesn trotzdem vermissen werde</td>\n",
       "      <td>http://www.zeit.de/entdecken/2020-04/oktoberfe...</td>\n",
       "      <td>2020-04-22T13:52:29Z</td>\n",
       "      <td>http://api.zeit.de/content/660V6H9CAOTGTw0HD6GT1x</td>\n",
       "      <td>Oktoberfest</td>\n",
       "      <td>Unsere Autorin wuchs nahe der Wiesn auf, die 2...</td>\n",
       "      <td>Warum ich die Wiesn trotzdem vermissen werde</td>\n",
       "      <td>[Ausnahmezustand, Oktoberfest, Bayern]</td>\n",
       "      <td>[Elisabeth Kagermeier]</td>\n",
       "      <td>[ZEIT ONLINE]</td>\n",
       "      <td>129.0</td>\n",
       "    </tr>\n",
       "    <tr>\n",
       "      <td>2</td>\n",
       "      <td>In Deutschland ist zum ersten Mal eine klinisc...</td>\n",
       "      <td>7JnTgL9LnGtuIY8ESds5e0</td>\n",
       "      <td>Erste klinische Studie zu Corona-Impfstoff zug...</td>\n",
       "      <td>http://www.zeit.de/wissen/gesundheit/2020-04/c...</td>\n",
       "      <td>2020-04-22T12:46:27Z</td>\n",
       "      <td>http://api.zeit.de/content/7JnTgL9LnGtuIY8ESds5e0</td>\n",
       "      <td>Coronavirus</td>\n",
       "      <td>In Deutschland ist zum ersten Mal eine klinisc...</td>\n",
       "      <td>Erste klinische Studie zu Corona-Impfstoff zug...</td>\n",
       "      <td>[Gesundheitssystem, Medizintechnik, Mainz, Rhe...</td>\n",
       "      <td>[Sarah Lena Grahn]</td>\n",
       "      <td>[ZEIT ONLINE]</td>\n",
       "      <td>28.0</td>\n",
       "    </tr>\n",
       "    <tr>\n",
       "      <td>3</td>\n",
       "      <td>Das Buch \"Machtspieler\" erzählt, wie Fußball b...</td>\n",
       "      <td>6X1Ngx5oYPZW4o1VuCyZoY</td>\n",
       "      <td>Fußball als Kriegswaffe</td>\n",
       "      <td>http://www.zeit.de/sport/2020-04/machtspieler-...</td>\n",
       "      <td>2020-04-22T12:16:04Z</td>\n",
       "      <td>http://api.zeit.de/content/6X1Ngx5oYPZW4o1VuCyZoY</td>\n",
       "      <td>Buch \"Machtspieler\"</td>\n",
       "      <td>Das Buch \"Machtspieler\" erzählt, wie Fußball b...</td>\n",
       "      <td>Fußball als Kriegswaffe</td>\n",
       "      <td>[Literatur, Syrien, Baschar al-Assad]</td>\n",
       "      <td>[Ronny Blaschke]</td>\n",
       "      <td>[ZEIT ONLINE]</td>\n",
       "      <td>4.0</td>\n",
       "    </tr>\n",
       "    <tr>\n",
       "      <td>4</td>\n",
       "      <td>Der Prozess um die Betrugsvorwürfe um die Fußb...</td>\n",
       "      <td>2rEXFrxDqow80Jii4EO4y2</td>\n",
       "      <td>Prozess um Fußball-WM 2006 wird eingestellt</td>\n",
       "      <td>http://www.zeit.de/sport/2020-04/wm-prozess-ve...</td>\n",
       "      <td>2020-04-22T11:58:53Z</td>\n",
       "      <td>http://api.zeit.de/content/2rEXFrxDqow80Jii4EO4y2</td>\n",
       "      <td>WM-Prozess</td>\n",
       "      <td>Der Prozess um die Betrugsvorwürfe um die Fußb...</td>\n",
       "      <td>Prozess um Fußball-WM 2006 wird eingestellt</td>\n",
       "      <td>[Theo Zwanziger, Wolfgang Niersbach, Franz Bec...</td>\n",
       "      <td>[Anna-Lena Schlitt]</td>\n",
       "      <td>[ZEIT ONLINE]</td>\n",
       "      <td>48.0</td>\n",
       "    </tr>\n",
       "  </tbody>\n",
       "</table>\n",
       "</div>"
      ],
      "text/plain": [
       "                                            subtitle                    uuid  \\\n",
       "0  Die Notaufnahme ist das wichtigste Tor ins Kra...   tjGeyYcvvupRcjD5YaTzG   \n",
       "1  Unsere Autorin wuchs nahe der Wiesn auf, die 2...  660V6H9CAOTGTw0HD6GT1x   \n",
       "2  In Deutschland ist zum ersten Mal eine klinisc...  7JnTgL9LnGtuIY8ESds5e0   \n",
       "3  Das Buch \"Machtspieler\" erzählt, wie Fußball b...  6X1Ngx5oYPZW4o1VuCyZoY   \n",
       "4  Der Prozess um die Betrugsvorwürfe um die Fußb...  2rEXFrxDqow80Jii4EO4y2   \n",
       "\n",
       "                                               title  \\\n",
       "0                    Ein Netz, das Viren fangen kann   \n",
       "1       Warum ich die Wiesn trotzdem vermissen werde   \n",
       "2  Erste klinische Studie zu Corona-Impfstoff zug...   \n",
       "3                            Fußball als Kriegswaffe   \n",
       "4        Prozess um Fußball-WM 2006 wird eingestellt   \n",
       "\n",
       "                                                href          release_date  \\\n",
       "0  http://www.zeit.de/hamburg/2020-04/notaufnahme...  2020-04-22T13:54:56Z   \n",
       "1  http://www.zeit.de/entdecken/2020-04/oktoberfe...  2020-04-22T13:52:29Z   \n",
       "2  http://www.zeit.de/wissen/gesundheit/2020-04/c...  2020-04-22T12:46:27Z   \n",
       "3  http://www.zeit.de/sport/2020-04/machtspieler-...  2020-04-22T12:16:04Z   \n",
       "4  http://www.zeit.de/sport/2020-04/wm-prozess-ve...  2020-04-22T11:58:53Z   \n",
       "\n",
       "                                                 uri           supertitle  \\\n",
       "0   http://api.zeit.de/content/tjGeyYcvvupRcjD5YaTzG         Notaufnahmen   \n",
       "1  http://api.zeit.de/content/660V6H9CAOTGTw0HD6GT1x          Oktoberfest   \n",
       "2  http://api.zeit.de/content/7JnTgL9LnGtuIY8ESds5e0          Coronavirus   \n",
       "3  http://api.zeit.de/content/6X1Ngx5oYPZW4o1VuCyZoY  Buch \"Machtspieler\"   \n",
       "4  http://api.zeit.de/content/2rEXFrxDqow80Jii4EO4y2           WM-Prozess   \n",
       "\n",
       "                                         teaser_text  \\\n",
       "0  Die Notaufnahme ist das wichtigste Tor ins Kra...   \n",
       "1  Unsere Autorin wuchs nahe der Wiesn auf, die 2...   \n",
       "2  In Deutschland ist zum ersten Mal eine klinisc...   \n",
       "3  Das Buch \"Machtspieler\" erzählt, wie Fußball b...   \n",
       "4  Der Prozess um die Betrugsvorwürfe um die Fußb...   \n",
       "\n",
       "                                        teaser_title  \\\n",
       "0                    Ein Netz, das Viren fangen kann   \n",
       "1       Warum ich die Wiesn trotzdem vermissen werde   \n",
       "2  Erste klinische Studie zu Corona-Impfstoff zug...   \n",
       "3                            Fußball als Kriegswaffe   \n",
       "4        Prozess um Fußball-WM 2006 wird eingestellt   \n",
       "\n",
       "                                            keywords                  autors  \\\n",
       "0  [Krankenhaus, Infektion, Pflegeheim, Gesundhei...           [Nike Heinen]   \n",
       "1             [Ausnahmezustand, Oktoberfest, Bayern]  [Elisabeth Kagermeier]   \n",
       "2  [Gesundheitssystem, Medizintechnik, Mainz, Rhe...      [Sarah Lena Grahn]   \n",
       "3              [Literatur, Syrien, Baschar al-Assad]        [Ronny Blaschke]   \n",
       "4  [Theo Zwanziger, Wolfgang Niersbach, Franz Bec...     [Anna-Lena Schlitt]   \n",
       "\n",
       "         product  Kommentare_Anzahl  \n",
       "0  [ZEIT ONLINE]                NaN  \n",
       "1  [ZEIT ONLINE]              129.0  \n",
       "2  [ZEIT ONLINE]               28.0  \n",
       "3  [ZEIT ONLINE]                4.0  \n",
       "4  [ZEIT ONLINE]               48.0  "
      ]
     },
     "execution_count": 37,
     "metadata": {},
     "output_type": "execute_result"
    }
   ],
   "source": [
    "zeit_online_df.head()"
   ]
  },
  {
   "cell_type": "markdown",
   "metadata": {},
   "source": [
    "## Cleaning and Rearranging Columns\n",
    "\n",
    "As a last step, we can rearragen the column order and give them a more intuitive name."
   ]
  },
  {
   "cell_type": "code",
   "execution_count": 38,
   "metadata": {},
   "outputs": [],
   "source": [
    "zeit_online_df.rename({\"uuid\":\"identifier\",\n",
    "                      \"href\":\"url\",\n",
    "                      \"uri\":\"endpoint\",\n",
    "                      \"Kommentare_Anzahl\":\"n_comments\",\n",
    "                      \"autors\":\"authors\"}, inplace = True,axis = 1)"
   ]
  },
  {
   "cell_type": "code",
   "execution_count": 39,
   "metadata": {},
   "outputs": [
    {
     "data": {
      "text/html": [
       "<div>\n",
       "<style scoped>\n",
       "    .dataframe tbody tr th:only-of-type {\n",
       "        vertical-align: middle;\n",
       "    }\n",
       "\n",
       "    .dataframe tbody tr th {\n",
       "        vertical-align: top;\n",
       "    }\n",
       "\n",
       "    .dataframe thead th {\n",
       "        text-align: right;\n",
       "    }\n",
       "</style>\n",
       "<table border=\"1\" class=\"dataframe\">\n",
       "  <thead>\n",
       "    <tr style=\"text-align: right;\">\n",
       "      <th></th>\n",
       "      <th>subtitle</th>\n",
       "      <th>identifier</th>\n",
       "      <th>title</th>\n",
       "      <th>url</th>\n",
       "      <th>release_date</th>\n",
       "      <th>endpoint</th>\n",
       "      <th>supertitle</th>\n",
       "      <th>teaser_text</th>\n",
       "      <th>teaser_title</th>\n",
       "      <th>keywords</th>\n",
       "      <th>authors</th>\n",
       "      <th>product</th>\n",
       "      <th>n_comments</th>\n",
       "    </tr>\n",
       "  </thead>\n",
       "  <tbody>\n",
       "    <tr>\n",
       "      <td>0</td>\n",
       "      <td>Die Notaufnahme ist das wichtigste Tor ins Kra...</td>\n",
       "      <td>tjGeyYcvvupRcjD5YaTzG</td>\n",
       "      <td>Ein Netz, das Viren fangen kann</td>\n",
       "      <td>http://www.zeit.de/hamburg/2020-04/notaufnahme...</td>\n",
       "      <td>2020-04-22T13:54:56Z</td>\n",
       "      <td>http://api.zeit.de/content/tjGeyYcvvupRcjD5YaTzG</td>\n",
       "      <td>Notaufnahmen</td>\n",
       "      <td>Die Notaufnahme ist das wichtigste Tor ins Kra...</td>\n",
       "      <td>Ein Netz, das Viren fangen kann</td>\n",
       "      <td>[Krankenhaus, Infektion, Pflegeheim, Gesundhei...</td>\n",
       "      <td>[Nike Heinen]</td>\n",
       "      <td>[ZEIT ONLINE]</td>\n",
       "      <td>NaN</td>\n",
       "    </tr>\n",
       "    <tr>\n",
       "      <td>1</td>\n",
       "      <td>Unsere Autorin wuchs nahe der Wiesn auf, die 2...</td>\n",
       "      <td>660V6H9CAOTGTw0HD6GT1x</td>\n",
       "      <td>Warum ich die Wiesn trotzdem vermissen werde</td>\n",
       "      <td>http://www.zeit.de/entdecken/2020-04/oktoberfe...</td>\n",
       "      <td>2020-04-22T13:52:29Z</td>\n",
       "      <td>http://api.zeit.de/content/660V6H9CAOTGTw0HD6GT1x</td>\n",
       "      <td>Oktoberfest</td>\n",
       "      <td>Unsere Autorin wuchs nahe der Wiesn auf, die 2...</td>\n",
       "      <td>Warum ich die Wiesn trotzdem vermissen werde</td>\n",
       "      <td>[Ausnahmezustand, Oktoberfest, Bayern]</td>\n",
       "      <td>[Elisabeth Kagermeier]</td>\n",
       "      <td>[ZEIT ONLINE]</td>\n",
       "      <td>129.0</td>\n",
       "    </tr>\n",
       "    <tr>\n",
       "      <td>2</td>\n",
       "      <td>In Deutschland ist zum ersten Mal eine klinisc...</td>\n",
       "      <td>7JnTgL9LnGtuIY8ESds5e0</td>\n",
       "      <td>Erste klinische Studie zu Corona-Impfstoff zug...</td>\n",
       "      <td>http://www.zeit.de/wissen/gesundheit/2020-04/c...</td>\n",
       "      <td>2020-04-22T12:46:27Z</td>\n",
       "      <td>http://api.zeit.de/content/7JnTgL9LnGtuIY8ESds5e0</td>\n",
       "      <td>Coronavirus</td>\n",
       "      <td>In Deutschland ist zum ersten Mal eine klinisc...</td>\n",
       "      <td>Erste klinische Studie zu Corona-Impfstoff zug...</td>\n",
       "      <td>[Gesundheitssystem, Medizintechnik, Mainz, Rhe...</td>\n",
       "      <td>[Sarah Lena Grahn]</td>\n",
       "      <td>[ZEIT ONLINE]</td>\n",
       "      <td>28.0</td>\n",
       "    </tr>\n",
       "    <tr>\n",
       "      <td>3</td>\n",
       "      <td>Das Buch \"Machtspieler\" erzählt, wie Fußball b...</td>\n",
       "      <td>6X1Ngx5oYPZW4o1VuCyZoY</td>\n",
       "      <td>Fußball als Kriegswaffe</td>\n",
       "      <td>http://www.zeit.de/sport/2020-04/machtspieler-...</td>\n",
       "      <td>2020-04-22T12:16:04Z</td>\n",
       "      <td>http://api.zeit.de/content/6X1Ngx5oYPZW4o1VuCyZoY</td>\n",
       "      <td>Buch \"Machtspieler\"</td>\n",
       "      <td>Das Buch \"Machtspieler\" erzählt, wie Fußball b...</td>\n",
       "      <td>Fußball als Kriegswaffe</td>\n",
       "      <td>[Literatur, Syrien, Baschar al-Assad]</td>\n",
       "      <td>[Ronny Blaschke]</td>\n",
       "      <td>[ZEIT ONLINE]</td>\n",
       "      <td>4.0</td>\n",
       "    </tr>\n",
       "    <tr>\n",
       "      <td>4</td>\n",
       "      <td>Der Prozess um die Betrugsvorwürfe um die Fußb...</td>\n",
       "      <td>2rEXFrxDqow80Jii4EO4y2</td>\n",
       "      <td>Prozess um Fußball-WM 2006 wird eingestellt</td>\n",
       "      <td>http://www.zeit.de/sport/2020-04/wm-prozess-ve...</td>\n",
       "      <td>2020-04-22T11:58:53Z</td>\n",
       "      <td>http://api.zeit.de/content/2rEXFrxDqow80Jii4EO4y2</td>\n",
       "      <td>WM-Prozess</td>\n",
       "      <td>Der Prozess um die Betrugsvorwürfe um die Fußb...</td>\n",
       "      <td>Prozess um Fußball-WM 2006 wird eingestellt</td>\n",
       "      <td>[Theo Zwanziger, Wolfgang Niersbach, Franz Bec...</td>\n",
       "      <td>[Anna-Lena Schlitt]</td>\n",
       "      <td>[ZEIT ONLINE]</td>\n",
       "      <td>48.0</td>\n",
       "    </tr>\n",
       "  </tbody>\n",
       "</table>\n",
       "</div>"
      ],
      "text/plain": [
       "                                            subtitle              identifier  \\\n",
       "0  Die Notaufnahme ist das wichtigste Tor ins Kra...   tjGeyYcvvupRcjD5YaTzG   \n",
       "1  Unsere Autorin wuchs nahe der Wiesn auf, die 2...  660V6H9CAOTGTw0HD6GT1x   \n",
       "2  In Deutschland ist zum ersten Mal eine klinisc...  7JnTgL9LnGtuIY8ESds5e0   \n",
       "3  Das Buch \"Machtspieler\" erzählt, wie Fußball b...  6X1Ngx5oYPZW4o1VuCyZoY   \n",
       "4  Der Prozess um die Betrugsvorwürfe um die Fußb...  2rEXFrxDqow80Jii4EO4y2   \n",
       "\n",
       "                                               title  \\\n",
       "0                    Ein Netz, das Viren fangen kann   \n",
       "1       Warum ich die Wiesn trotzdem vermissen werde   \n",
       "2  Erste klinische Studie zu Corona-Impfstoff zug...   \n",
       "3                            Fußball als Kriegswaffe   \n",
       "4        Prozess um Fußball-WM 2006 wird eingestellt   \n",
       "\n",
       "                                                 url          release_date  \\\n",
       "0  http://www.zeit.de/hamburg/2020-04/notaufnahme...  2020-04-22T13:54:56Z   \n",
       "1  http://www.zeit.de/entdecken/2020-04/oktoberfe...  2020-04-22T13:52:29Z   \n",
       "2  http://www.zeit.de/wissen/gesundheit/2020-04/c...  2020-04-22T12:46:27Z   \n",
       "3  http://www.zeit.de/sport/2020-04/machtspieler-...  2020-04-22T12:16:04Z   \n",
       "4  http://www.zeit.de/sport/2020-04/wm-prozess-ve...  2020-04-22T11:58:53Z   \n",
       "\n",
       "                                            endpoint           supertitle  \\\n",
       "0   http://api.zeit.de/content/tjGeyYcvvupRcjD5YaTzG         Notaufnahmen   \n",
       "1  http://api.zeit.de/content/660V6H9CAOTGTw0HD6GT1x          Oktoberfest   \n",
       "2  http://api.zeit.de/content/7JnTgL9LnGtuIY8ESds5e0          Coronavirus   \n",
       "3  http://api.zeit.de/content/6X1Ngx5oYPZW4o1VuCyZoY  Buch \"Machtspieler\"   \n",
       "4  http://api.zeit.de/content/2rEXFrxDqow80Jii4EO4y2           WM-Prozess   \n",
       "\n",
       "                                         teaser_text  \\\n",
       "0  Die Notaufnahme ist das wichtigste Tor ins Kra...   \n",
       "1  Unsere Autorin wuchs nahe der Wiesn auf, die 2...   \n",
       "2  In Deutschland ist zum ersten Mal eine klinisc...   \n",
       "3  Das Buch \"Machtspieler\" erzählt, wie Fußball b...   \n",
       "4  Der Prozess um die Betrugsvorwürfe um die Fußb...   \n",
       "\n",
       "                                        teaser_title  \\\n",
       "0                    Ein Netz, das Viren fangen kann   \n",
       "1       Warum ich die Wiesn trotzdem vermissen werde   \n",
       "2  Erste klinische Studie zu Corona-Impfstoff zug...   \n",
       "3                            Fußball als Kriegswaffe   \n",
       "4        Prozess um Fußball-WM 2006 wird eingestellt   \n",
       "\n",
       "                                            keywords                 authors  \\\n",
       "0  [Krankenhaus, Infektion, Pflegeheim, Gesundhei...           [Nike Heinen]   \n",
       "1             [Ausnahmezustand, Oktoberfest, Bayern]  [Elisabeth Kagermeier]   \n",
       "2  [Gesundheitssystem, Medizintechnik, Mainz, Rhe...      [Sarah Lena Grahn]   \n",
       "3              [Literatur, Syrien, Baschar al-Assad]        [Ronny Blaschke]   \n",
       "4  [Theo Zwanziger, Wolfgang Niersbach, Franz Bec...     [Anna-Lena Schlitt]   \n",
       "\n",
       "         product  n_comments  \n",
       "0  [ZEIT ONLINE]         NaN  \n",
       "1  [ZEIT ONLINE]       129.0  \n",
       "2  [ZEIT ONLINE]        28.0  \n",
       "3  [ZEIT ONLINE]         4.0  \n",
       "4  [ZEIT ONLINE]        48.0  "
      ]
     },
     "execution_count": 39,
     "metadata": {},
     "output_type": "execute_result"
    }
   ],
   "source": [
    "zeit_online_df.head()"
   ]
  },
  {
   "cell_type": "code",
   "execution_count": 40,
   "metadata": {},
   "outputs": [],
   "source": [
    "zeit_online = zeit_online_df[[\"title\",\"subtitle\",\"url\",\"release_date\",\"endpoint\",\n",
    "                             \"identifier\",\"supertitle\",\"keywords\",\"authors\",\"product\",\"n_comments\"]]\n",
    "\n",
    "# We're a leaving teaser_text and teaser_title behing, because those column contain repeated data\n",
    "# already contained in subtitle and title"
   ]
  },
  {
   "cell_type": "code",
   "execution_count": 41,
   "metadata": {},
   "outputs": [
    {
     "data": {
      "text/html": [
       "<div>\n",
       "<style scoped>\n",
       "    .dataframe tbody tr th:only-of-type {\n",
       "        vertical-align: middle;\n",
       "    }\n",
       "\n",
       "    .dataframe tbody tr th {\n",
       "        vertical-align: top;\n",
       "    }\n",
       "\n",
       "    .dataframe thead th {\n",
       "        text-align: right;\n",
       "    }\n",
       "</style>\n",
       "<table border=\"1\" class=\"dataframe\">\n",
       "  <thead>\n",
       "    <tr style=\"text-align: right;\">\n",
       "      <th></th>\n",
       "      <th>title</th>\n",
       "      <th>subtitle</th>\n",
       "      <th>url</th>\n",
       "      <th>release_date</th>\n",
       "      <th>endpoint</th>\n",
       "      <th>identifier</th>\n",
       "      <th>supertitle</th>\n",
       "      <th>keywords</th>\n",
       "      <th>authors</th>\n",
       "      <th>product</th>\n",
       "      <th>n_comments</th>\n",
       "    </tr>\n",
       "  </thead>\n",
       "  <tbody>\n",
       "    <tr>\n",
       "      <td>0</td>\n",
       "      <td>Ein Netz, das Viren fangen kann</td>\n",
       "      <td>Die Notaufnahme ist das wichtigste Tor ins Kra...</td>\n",
       "      <td>http://www.zeit.de/hamburg/2020-04/notaufnahme...</td>\n",
       "      <td>2020-04-22T13:54:56Z</td>\n",
       "      <td>http://api.zeit.de/content/tjGeyYcvvupRcjD5YaTzG</td>\n",
       "      <td>tjGeyYcvvupRcjD5YaTzG</td>\n",
       "      <td>Notaufnahmen</td>\n",
       "      <td>[Krankenhaus, Infektion, Pflegeheim, Gesundhei...</td>\n",
       "      <td>[Nike Heinen]</td>\n",
       "      <td>[ZEIT ONLINE]</td>\n",
       "      <td>NaN</td>\n",
       "    </tr>\n",
       "    <tr>\n",
       "      <td>1</td>\n",
       "      <td>Warum ich die Wiesn trotzdem vermissen werde</td>\n",
       "      <td>Unsere Autorin wuchs nahe der Wiesn auf, die 2...</td>\n",
       "      <td>http://www.zeit.de/entdecken/2020-04/oktoberfe...</td>\n",
       "      <td>2020-04-22T13:52:29Z</td>\n",
       "      <td>http://api.zeit.de/content/660V6H9CAOTGTw0HD6GT1x</td>\n",
       "      <td>660V6H9CAOTGTw0HD6GT1x</td>\n",
       "      <td>Oktoberfest</td>\n",
       "      <td>[Ausnahmezustand, Oktoberfest, Bayern]</td>\n",
       "      <td>[Elisabeth Kagermeier]</td>\n",
       "      <td>[ZEIT ONLINE]</td>\n",
       "      <td>129.0</td>\n",
       "    </tr>\n",
       "    <tr>\n",
       "      <td>2</td>\n",
       "      <td>Erste klinische Studie zu Corona-Impfstoff zug...</td>\n",
       "      <td>In Deutschland ist zum ersten Mal eine klinisc...</td>\n",
       "      <td>http://www.zeit.de/wissen/gesundheit/2020-04/c...</td>\n",
       "      <td>2020-04-22T12:46:27Z</td>\n",
       "      <td>http://api.zeit.de/content/7JnTgL9LnGtuIY8ESds5e0</td>\n",
       "      <td>7JnTgL9LnGtuIY8ESds5e0</td>\n",
       "      <td>Coronavirus</td>\n",
       "      <td>[Gesundheitssystem, Medizintechnik, Mainz, Rhe...</td>\n",
       "      <td>[Sarah Lena Grahn]</td>\n",
       "      <td>[ZEIT ONLINE]</td>\n",
       "      <td>28.0</td>\n",
       "    </tr>\n",
       "    <tr>\n",
       "      <td>3</td>\n",
       "      <td>Fußball als Kriegswaffe</td>\n",
       "      <td>Das Buch \"Machtspieler\" erzählt, wie Fußball b...</td>\n",
       "      <td>http://www.zeit.de/sport/2020-04/machtspieler-...</td>\n",
       "      <td>2020-04-22T12:16:04Z</td>\n",
       "      <td>http://api.zeit.de/content/6X1Ngx5oYPZW4o1VuCyZoY</td>\n",
       "      <td>6X1Ngx5oYPZW4o1VuCyZoY</td>\n",
       "      <td>Buch \"Machtspieler\"</td>\n",
       "      <td>[Literatur, Syrien, Baschar al-Assad]</td>\n",
       "      <td>[Ronny Blaschke]</td>\n",
       "      <td>[ZEIT ONLINE]</td>\n",
       "      <td>4.0</td>\n",
       "    </tr>\n",
       "    <tr>\n",
       "      <td>4</td>\n",
       "      <td>Prozess um Fußball-WM 2006 wird eingestellt</td>\n",
       "      <td>Der Prozess um die Betrugsvorwürfe um die Fußb...</td>\n",
       "      <td>http://www.zeit.de/sport/2020-04/wm-prozess-ve...</td>\n",
       "      <td>2020-04-22T11:58:53Z</td>\n",
       "      <td>http://api.zeit.de/content/2rEXFrxDqow80Jii4EO4y2</td>\n",
       "      <td>2rEXFrxDqow80Jii4EO4y2</td>\n",
       "      <td>WM-Prozess</td>\n",
       "      <td>[Theo Zwanziger, Wolfgang Niersbach, Franz Bec...</td>\n",
       "      <td>[Anna-Lena Schlitt]</td>\n",
       "      <td>[ZEIT ONLINE]</td>\n",
       "      <td>48.0</td>\n",
       "    </tr>\n",
       "  </tbody>\n",
       "</table>\n",
       "</div>"
      ],
      "text/plain": [
       "                                               title  \\\n",
       "0                    Ein Netz, das Viren fangen kann   \n",
       "1       Warum ich die Wiesn trotzdem vermissen werde   \n",
       "2  Erste klinische Studie zu Corona-Impfstoff zug...   \n",
       "3                            Fußball als Kriegswaffe   \n",
       "4        Prozess um Fußball-WM 2006 wird eingestellt   \n",
       "\n",
       "                                            subtitle  \\\n",
       "0  Die Notaufnahme ist das wichtigste Tor ins Kra...   \n",
       "1  Unsere Autorin wuchs nahe der Wiesn auf, die 2...   \n",
       "2  In Deutschland ist zum ersten Mal eine klinisc...   \n",
       "3  Das Buch \"Machtspieler\" erzählt, wie Fußball b...   \n",
       "4  Der Prozess um die Betrugsvorwürfe um die Fußb...   \n",
       "\n",
       "                                                 url          release_date  \\\n",
       "0  http://www.zeit.de/hamburg/2020-04/notaufnahme...  2020-04-22T13:54:56Z   \n",
       "1  http://www.zeit.de/entdecken/2020-04/oktoberfe...  2020-04-22T13:52:29Z   \n",
       "2  http://www.zeit.de/wissen/gesundheit/2020-04/c...  2020-04-22T12:46:27Z   \n",
       "3  http://www.zeit.de/sport/2020-04/machtspieler-...  2020-04-22T12:16:04Z   \n",
       "4  http://www.zeit.de/sport/2020-04/wm-prozess-ve...  2020-04-22T11:58:53Z   \n",
       "\n",
       "                                            endpoint              identifier  \\\n",
       "0   http://api.zeit.de/content/tjGeyYcvvupRcjD5YaTzG   tjGeyYcvvupRcjD5YaTzG   \n",
       "1  http://api.zeit.de/content/660V6H9CAOTGTw0HD6GT1x  660V6H9CAOTGTw0HD6GT1x   \n",
       "2  http://api.zeit.de/content/7JnTgL9LnGtuIY8ESds5e0  7JnTgL9LnGtuIY8ESds5e0   \n",
       "3  http://api.zeit.de/content/6X1Ngx5oYPZW4o1VuCyZoY  6X1Ngx5oYPZW4o1VuCyZoY   \n",
       "4  http://api.zeit.de/content/2rEXFrxDqow80Jii4EO4y2  2rEXFrxDqow80Jii4EO4y2   \n",
       "\n",
       "            supertitle                                           keywords  \\\n",
       "0         Notaufnahmen  [Krankenhaus, Infektion, Pflegeheim, Gesundhei...   \n",
       "1          Oktoberfest             [Ausnahmezustand, Oktoberfest, Bayern]   \n",
       "2          Coronavirus  [Gesundheitssystem, Medizintechnik, Mainz, Rhe...   \n",
       "3  Buch \"Machtspieler\"              [Literatur, Syrien, Baschar al-Assad]   \n",
       "4           WM-Prozess  [Theo Zwanziger, Wolfgang Niersbach, Franz Bec...   \n",
       "\n",
       "                  authors        product  n_comments  \n",
       "0           [Nike Heinen]  [ZEIT ONLINE]         NaN  \n",
       "1  [Elisabeth Kagermeier]  [ZEIT ONLINE]       129.0  \n",
       "2      [Sarah Lena Grahn]  [ZEIT ONLINE]        28.0  \n",
       "3        [Ronny Blaschke]  [ZEIT ONLINE]         4.0  \n",
       "4     [Anna-Lena Schlitt]  [ZEIT ONLINE]        48.0  "
      ]
     },
     "execution_count": 41,
     "metadata": {},
     "output_type": "execute_result"
    }
   ],
   "source": [
    "zeit_online.head()"
   ]
  },
  {
   "cell_type": "code",
   "execution_count": 52,
   "metadata": {},
   "outputs": [],
   "source": [
    "zeit_online.to_csv(r\"C:\\Users\\celio\\My Projects\\Guided Projects\\Bewerbung\\zeit_api.csv\")"
   ]
  },
  {
   "cell_type": "markdown",
   "metadata": {},
   "source": [
    "## Initial Analysis\n",
    "\n",
    "The file is finally ready for some initial analysis."
   ]
  },
  {
   "cell_type": "markdown",
   "metadata": {},
   "source": [
    "### Summary Statistics of the DataFrame"
   ]
  },
  {
   "cell_type": "code",
   "execution_count": 42,
   "metadata": {},
   "outputs": [
    {
     "name": "stdout",
     "output_type": "stream",
     "text": [
      "<class 'pandas.core.frame.DataFrame'>\n",
      "Int64Index: 957 entries, 0 to 956\n",
      "Data columns (total 11 columns):\n",
      "title           957 non-null object\n",
      "subtitle        957 non-null object\n",
      "url             957 non-null object\n",
      "release_date    957 non-null object\n",
      "endpoint        957 non-null object\n",
      "identifier      957 non-null object\n",
      "supertitle      957 non-null object\n",
      "keywords        957 non-null object\n",
      "authors         957 non-null object\n",
      "product         957 non-null object\n",
      "n_comments      859 non-null float64\n",
      "dtypes: float64(1), object(10)\n",
      "memory usage: 52.3+ KB\n"
     ]
    }
   ],
   "source": [
    "zeit_online.info()"
   ]
  },
  {
   "cell_type": "markdown",
   "metadata": {},
   "source": [
    "### Articles with Most Comments"
   ]
  },
  {
   "cell_type": "code",
   "execution_count": 43,
   "metadata": {},
   "outputs": [
    {
     "data": {
      "text/html": [
       "<div>\n",
       "<style scoped>\n",
       "    .dataframe tbody tr th:only-of-type {\n",
       "        vertical-align: middle;\n",
       "    }\n",
       "\n",
       "    .dataframe tbody tr th {\n",
       "        vertical-align: top;\n",
       "    }\n",
       "\n",
       "    .dataframe thead th {\n",
       "        text-align: right;\n",
       "    }\n",
       "</style>\n",
       "<table border=\"1\" class=\"dataframe\">\n",
       "  <thead>\n",
       "    <tr style=\"text-align: right;\">\n",
       "      <th></th>\n",
       "      <th>title</th>\n",
       "      <th>subtitle</th>\n",
       "      <th>release_date</th>\n",
       "      <th>n_comments</th>\n",
       "    </tr>\n",
       "  </thead>\n",
       "  <tbody>\n",
       "    <tr>\n",
       "      <td>639</td>\n",
       "      <td>Unser schicker Kapitalismus mit tödlichem Antlitz</td>\n",
       "      <td>Schuld an der Corona-Krise sind die Finanzolig...</td>\n",
       "      <td>2020-04-07T05:40:29Z</td>\n",
       "      <td>990.0</td>\n",
       "    </tr>\n",
       "    <tr>\n",
       "      <td>460</td>\n",
       "      <td>Das Neue ist längst da</td>\n",
       "      <td>Die Corona-Krise legt gnadenlos die Schwächen ...</td>\n",
       "      <td>2020-04-10T18:05:59Z</td>\n",
       "      <td>977.0</td>\n",
       "    </tr>\n",
       "    <tr>\n",
       "      <td>241</td>\n",
       "      <td>Wenn das schiefgeht, war vieles umsonst</td>\n",
       "      <td>Bald schon Läden und Schulen zu öffnen, könnte...</td>\n",
       "      <td>2020-04-16T17:41:10Z</td>\n",
       "      <td>975.0</td>\n",
       "    </tr>\n",
       "    <tr>\n",
       "      <td>130</td>\n",
       "      <td>Bundeskanzlerin kritisiert \"Öffnungsdiskussion...</td>\n",
       "      <td>Angela Merkel ist um die Erfolge bei der Coron...</td>\n",
       "      <td>2020-04-20T08:51:12Z</td>\n",
       "      <td>960.0</td>\n",
       "    </tr>\n",
       "    <tr>\n",
       "      <td>259</td>\n",
       "      <td>Er holpert Richtung Exit</td>\n",
       "      <td>Hoffnung statt Härte: Armin Laschet versucht s...</td>\n",
       "      <td>2020-04-16T12:59:26Z</td>\n",
       "      <td>950.0</td>\n",
       "    </tr>\n",
       "    <tr>\n",
       "      <td>482</td>\n",
       "      <td>Noch darf Assad sich sicher fühlen</td>\n",
       "      <td>Wie oft wurde der Giftgaseinsatz des syrischen...</td>\n",
       "      <td>2020-04-10T06:21:03Z</td>\n",
       "      <td>894.0</td>\n",
       "    </tr>\n",
       "    <tr>\n",
       "      <td>616</td>\n",
       "      <td>\"Ich wurde aus dem Supermarkt geworfen\"</td>\n",
       "      <td>Seitdem Melanie Becker Corona-Patienten behand...</td>\n",
       "      <td>2020-04-07T13:07:27Z</td>\n",
       "      <td>859.0</td>\n",
       "    </tr>\n",
       "    <tr>\n",
       "      <td>9</td>\n",
       "      <td>Dieters Paradies</td>\n",
       "      <td>Viele fordern, es müsse endlich trotz Corona e...</td>\n",
       "      <td>2020-04-22T10:41:26Z</td>\n",
       "      <td>844.0</td>\n",
       "    </tr>\n",
       "    <tr>\n",
       "      <td>940</td>\n",
       "      <td>Die zwei Angela Merkels</td>\n",
       "      <td>Sie ist die volksnahe Kanzlerin im Supermarkt,...</td>\n",
       "      <td>2020-03-31T06:33:57Z</td>\n",
       "      <td>832.0</td>\n",
       "    </tr>\n",
       "    <tr>\n",
       "      <td>315</td>\n",
       "      <td>\"Jetzt wäre jede Form von Lockerung gefährlich\"</td>\n",
       "      <td>Schulen und Läden wieder öffnen? Nein, sagt In...</td>\n",
       "      <td>2020-04-15T11:00:23Z</td>\n",
       "      <td>825.0</td>\n",
       "    </tr>\n",
       "  </tbody>\n",
       "</table>\n",
       "</div>"
      ],
      "text/plain": [
       "                                                 title  \\\n",
       "639  Unser schicker Kapitalismus mit tödlichem Antlitz   \n",
       "460                             Das Neue ist längst da   \n",
       "241            Wenn das schiefgeht, war vieles umsonst   \n",
       "130  Bundeskanzlerin kritisiert \"Öffnungsdiskussion...   \n",
       "259                           Er holpert Richtung Exit   \n",
       "482                 Noch darf Assad sich sicher fühlen   \n",
       "616            \"Ich wurde aus dem Supermarkt geworfen\"   \n",
       "9                                     Dieters Paradies   \n",
       "940                            Die zwei Angela Merkels   \n",
       "315    \"Jetzt wäre jede Form von Lockerung gefährlich\"   \n",
       "\n",
       "                                              subtitle          release_date  \\\n",
       "639  Schuld an der Corona-Krise sind die Finanzolig...  2020-04-07T05:40:29Z   \n",
       "460  Die Corona-Krise legt gnadenlos die Schwächen ...  2020-04-10T18:05:59Z   \n",
       "241  Bald schon Läden und Schulen zu öffnen, könnte...  2020-04-16T17:41:10Z   \n",
       "130  Angela Merkel ist um die Erfolge bei der Coron...  2020-04-20T08:51:12Z   \n",
       "259  Hoffnung statt Härte: Armin Laschet versucht s...  2020-04-16T12:59:26Z   \n",
       "482  Wie oft wurde der Giftgaseinsatz des syrischen...  2020-04-10T06:21:03Z   \n",
       "616  Seitdem Melanie Becker Corona-Patienten behand...  2020-04-07T13:07:27Z   \n",
       "9    Viele fordern, es müsse endlich trotz Corona e...  2020-04-22T10:41:26Z   \n",
       "940  Sie ist die volksnahe Kanzlerin im Supermarkt,...  2020-03-31T06:33:57Z   \n",
       "315  Schulen und Läden wieder öffnen? Nein, sagt In...  2020-04-15T11:00:23Z   \n",
       "\n",
       "     n_comments  \n",
       "639       990.0  \n",
       "460       977.0  \n",
       "241       975.0  \n",
       "130       960.0  \n",
       "259       950.0  \n",
       "482       894.0  \n",
       "616       859.0  \n",
       "9         844.0  \n",
       "940       832.0  \n",
       "315       825.0  "
      ]
     },
     "execution_count": 43,
     "metadata": {},
     "output_type": "execute_result"
    }
   ],
   "source": [
    "zeit_online.sort_values(by=\"n_comments\",ascending = False)[[\"title\",\"subtitle\",\"release_date\",\"n_comments\"]].head(10)"
   ]
  },
  {
   "cell_type": "markdown",
   "metadata": {},
   "source": [
    "## Most Prolific Authors"
   ]
  },
  {
   "cell_type": "code",
   "execution_count": 49,
   "metadata": {
    "scrolled": false
   },
   "outputs": [
    {
     "data": {
      "text/plain": [
       "<matplotlib.axes._subplots.AxesSubplot at 0x3848bed0>"
      ]
     },
     "execution_count": 49,
     "metadata": {},
     "output_type": "execute_result"
    },
    {
     "data": {
      "image/png": "[encoded data removed]",
      "text/plain": [
       "<Figure size 936x504 with 1 Axes>"
      ]
     },
     "metadata": {
      "needs_background": "light"
     },
     "output_type": "display_data"
    }
   ],
   "source": [
    "zeit_online[\"authors\"].value_counts().sort_values(ascending = False).head(10).plot.bar(figsize=(13,7),\n",
    "                                                                                      rot=45,\n",
    "                                                                                      fontsize=\"x-large\",\n",
    "                                                                                      title= \"Most Prolific Authors\")"
   ]
  },
  {
   "cell_type": "markdown",
   "metadata": {},
   "source": [
    "## Most Common Themes"
   ]
  },
  {
   "cell_type": "code",
   "execution_count": 45,
   "metadata": {
    "scrolled": false
   },
   "outputs": [
    {
     "data": {
      "text/plain": [
       "<matplotlib.axes._subplots.AxesSubplot at 0x38ebd770>"
      ]
     },
     "execution_count": 45,
     "metadata": {},
     "output_type": "execute_result"
    },
    {
     "data": {
      "image/png": "[encoded data removed]",
      "text/plain": [
       "<Figure size 936x504 with 1 Axes>"
      ]
     },
     "metadata": {
      "needs_background": "light"
     },
     "output_type": "display_data"
    }
   ],
   "source": [
    "zeit_online[\"supertitle\"].value_counts().sort_values(ascending = False).head(10).plot.bar(figsize=(13,7),\n",
    "                                                          rot = 45,\n",
    "                                                          fontsize=\"x-large\")"
   ]
  },
  {
   "cell_type": "markdown",
   "metadata": {},
   "source": [
    "## Release Hour of Most Commented Articles"
   ]
  },
  {
   "cell_type": "code",
   "execution_count": 46,
   "metadata": {
    "scrolled": false
   },
   "outputs": [
    {
     "data": {
      "text/plain": [
       "<matplotlib.axes._subplots.AxesSubplot at 0x38f10c10>"
      ]
     },
     "execution_count": 46,
     "metadata": {},
     "output_type": "execute_result"
    },
    {
     "data": {
      "image/png": "[encoded data removed]",
      "text/plain": [
       "<Figure size 504x720 with 1 Axes>"
      ]
     },
     "metadata": {
      "needs_background": "light"
     },
     "output_type": "display_data"
    }
   ],
   "source": [
    "zeit_online.sort_values(by=\"n_comments\", ascending = False).head(10).plot.barh(x=\"release_date\",y=\"n_comments\",\n",
    "                                                                              figsize = (7,10), legend = False)"
   ]
  },
  {
   "cell_type": "markdown",
   "metadata": {},
   "source": [
    "# Conclusion\n",
    "\n",
    "In this project, we gathered Data from different endpoints of the API of the german newspaper DIE ZEIT and complemented it with the number of comments via webscrapping. After this, we joined all the data and cleaned it to make initial analysis possible.\n",
    "\n",
    "Since analyzing the data does not belong to the project's goal, the analysis here is very superficial. Moreover, further data cleaning might be necessary depending on the purpose, to which the data is going to be used. However, the interesting task of data wrangling and cleaning is now complete."
   ]
  }
 ],
 "metadata": {
  "kernelspec": {
   "display_name": "Python 3",
   "language": "python",
   "name": "python3"
  },
  "language_info": {
   "codemirror_mode": {
    "name": "ipython",
    "version": 3
   },
   "file_extension": ".py",
   "mimetype": "text/x-python",
   "name": "python",
   "nbconvert_exporter": "python",
   "pygments_lexer": "ipython3",
   "version": "3.7.4"
  }
 },
 "nbformat": 4,
 "nbformat_minor": 2
}
